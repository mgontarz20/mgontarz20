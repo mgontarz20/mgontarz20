{
  "nbformat": 4,
  "nbformat_minor": 0,
  "metadata": {
    "colab": {
      "name": "PanelSterowaniaGC.ipynb",
      "provenance": [],
      "collapsed_sections": [
        "X-vmgtPj5lQj"
      ],
      "mount_file_id": "1B-_x0y_TIpOQwxUkzTUnAtKrtPyUHnOW",
      "authorship_tag": "ABX9TyNPCE69NwzTwhpDtBVXhYXN",
      "include_colab_link": true
    },
    "kernelspec": {
      "name": "python3",
      "display_name": "Python 3"
    },
    "language_info": {
      "name": "python"
    }
  },
  "cells": [
    {
      "cell_type": "markdown",
      "metadata": {
        "id": "view-in-github",
        "colab_type": "text"
      },
      "source": [
        "<a href=\"https://colab.research.google.com/github/mgontarz20/mgontarz20/blob/main/PanelSterowaniaGC.ipynb\" target=\"_parent\"><img src=\"https://colab.research.google.com/assets/colab-badge.svg\" alt=\"Open In Colab\"/></a>"
      ]
    },
    {
      "cell_type": "markdown",
      "metadata": {
        "id": "gPD8zIwh3rl9"
      },
      "source": [
        "# Library Imports\n"
      ]
    },
    {
      "cell_type": "code",
      "metadata": {
        "id": "gNHDQWfK3xvG"
      },
      "source": [
        "import sys\n",
        "sys.path.append('/content/drive/MyDrive/BadaniaMchtr')\n",
        "import numpy as np\n",
        "import os\n",
        "import tqdm\n",
        "from tqdm import tqdm\n",
        "from keras.losses import MeanSquaredError, SparseCategoricalCrossentropy\n",
        "from keras.utils.vis_utils import plot_model\n",
        "from keras.preprocessing.image import img_to_array, load_img\n",
        "from skimage.transform import resize\n",
        "from sklearn.model_selection import train_test_split\n",
        "from keras.layers import Input\n",
        "from tensorflow.keras.optimizers import Adam\n",
        "from keras.callbacks import ModelCheckpoint, EarlyStopping, ReduceLROnPlateau, TensorBoard,CSVLogger,LambdaCallback\n",
        "import matplotlib.pyplot as plt\n",
        "import tensorflow as tf\n",
        "from tensorflow import keras\n",
        "from datetime import datetime\n",
        "\n",
        "import json\n"
      ],
      "execution_count": null,
      "outputs": []
    },
    {
      "cell_type": "markdown",
      "metadata": {
        "id": "Vi6UNaVE3qjk"
      },
      "source": [
        "#User Imports"
      ]
    },
    {
      "cell_type": "code",
      "metadata": {
        "id": "c_ZJYDAn32cm"
      },
      "source": [
        "import genConfig\n",
        "import plotter\n",
        "import UNetResNet_5lvl"
      ],
      "execution_count": null,
      "outputs": []
    },
    {
      "cell_type": "markdown",
      "metadata": {
        "id": "uQU1P43a38mS"
      },
      "source": [
        "# Definition of hyperparameters"
      ]
    },
    {
      "cell_type": "code",
      "metadata": {
        "id": "2f0z9tLM4CdM"
      },
      "source": [
        "test_size = 0.25\n",
        "random_state = 10\n",
        "n_filters = 4\n",
        "stop_patience = 21\n",
        "batch_size = 16\n",
        "epoch_limit = 200\n",
        "norm = False\n",
        "coeff = 1.0\n",
        "if norm:\n",
        "    coeff = 255.0\n",
        "activation_function = 'relu'"
      ],
      "execution_count": null,
      "outputs": []
    },
    {
      "cell_type": "code",
      "metadata": {
        "id": "-QyLiROn04wi"
      },
      "source": [
        ""
      ],
      "execution_count": null,
      "outputs": []
    },
    {
      "cell_type": "code",
      "metadata": {
        "id": "u-hU_2vJ0qFB"
      },
      "source": [
        ""
      ],
      "execution_count": null,
      "outputs": []
    },
    {
      "cell_type": "markdown",
      "metadata": {
        "id": "qOUKqSY44I4D"
      },
      "source": [
        "#Name definition\n",
        "\n"
      ]
    },
    {
      "cell_type": "code",
      "metadata": {
        "id": "mJiQJekx4LCN"
      },
      "source": [
        "date = datetime.now().strftime(\"%m-%d-%Y_%H-%M-%S\")\n",
        "root = '/content/drive/MyDrive/BadaniaMchtr/'\n",
        "pathtoDataSet = f\"{root}Datasets/\"\n",
        "dataset = \"dataset_9_Combined_to_pred_256x256_10-11-2021_11-24-53\"\n",
        "type1 = \"resc_wrpd\"\n",
        "type2 = \"resc\"\n",
        "comment = \"SSIMloss\"\n",
        "name = f\"UNetResNet5lvl_{type1}_{date}_{comment}\""
      ],
      "execution_count": null,
      "outputs": []
    },
    {
      "cell_type": "markdown",
      "metadata": {
        "id": "2FOZ67GT4ZeA"
      },
      "source": [
        "# Path Definition\n",
        "# Folder Generation"
      ]
    },
    {
      "cell_type": "code",
      "metadata": {
        "id": "pBL4_0_l4fDV"
      },
      "source": [
        "os.makedirs(f'{root}Results/{name}', exist_ok=True)\n",
        "os.makedirs(f'{root}Results/{name}/model', exist_ok=True)\n",
        "os.makedirs(f'{root}Results/{name}/cfg', exist_ok=True)\n",
        "cfg_dir = f'{root}Results/{name}/cfg'"
      ],
      "execution_count": null,
      "outputs": []
    },
    {
      "cell_type": "code",
      "metadata": {
        "id": "xF3MZJn44lEr",
        "colab": {
          "base_uri": "https://localhost:8080/"
        },
        "outputId": "223b9115-f27b-40a4-f936-92ed7a754871"
      },
      "source": [
        "path_to_inputs = os.path.join(pathtoDataSet,dataset,type1).replace(\"\\\\\", \"/\")\n",
        "path_to_outputs = os.path.join(pathtoDataSet,dataset,type2).replace(\"\\\\\", \"/\")\n",
        "print(f\"Input path: {path_to_inputs}\")\n",
        "print(f\"Output path: {path_to_outputs}\")"
      ],
      "execution_count": null,
      "outputs": [
        {
          "output_type": "stream",
          "name": "stdout",
          "text": [
            "Input path: /content/drive/MyDrive/BadaniaMchtr/Datasets/dataset_9_Combined_to_pred_256x256_10-11-2021_11-24-53/resc_wrpd\n",
            "Output path: /content/drive/MyDrive/BadaniaMchtr/Datasets/dataset_9_Combined_to_pred_256x256_10-11-2021_11-24-53/resc\n"
          ]
        }
      ]
    },
    {
      "cell_type": "markdown",
      "metadata": {
        "id": "WMeBrbF_5FEK"
      },
      "source": [
        "# Custom Functions (Callbacks, Loss)"
      ]
    },
    {
      "cell_type": "code",
      "metadata": {
        "id": "7m3H54wx4qSu"
      },
      "source": [
        "json_log = open(f'{root}Results/{name}/{name}_loss_log.json', mode='wt', buffering=1)\n",
        "json_logging_callback = LambdaCallback(\n",
        "    on_epoch_end=lambda epoch, logs: json_log.write(\n",
        "        json.dumps({'epoch': epoch, 'loss': logs['loss']}) + '\\n'),\n",
        "    on_train_end=lambda logs: json_log.close())"
      ],
      "execution_count": null,
      "outputs": []
    },
    {
      "cell_type": "code",
      "metadata": {
        "id": "w0k1FAKY5Q1G"
      },
      "source": [
        "def SSIMLoss(y_true, y_pred):\n",
        "  return 1 - tf.reduce_mean(tf.image.ssim(y_true, y_pred, 255.0))"
      ],
      "execution_count": null,
      "outputs": []
    },
    {
      "cell_type": "code",
      "metadata": {
        "id": "dIHo3Mbi5Opr"
      },
      "source": [
        "callbacks = [\n",
        "    EarlyStopping(patience=stop_patience, verbose=1),\n",
        "    ReduceLROnPlateau(factor=0.1, patience=5, min_lr=0.0000001, verbose=1),\n",
        "    ModelCheckpoint(f'{root}Results/{name}/model/{name}.h5', verbose=1, save_best_only=True),\n",
        "    #Tensordash(ModelName=f\"{name}\", email='mgontarz15@gmail.com', password='dupadupa'),\n",
        "    TensorBoard(log_dir=f\"{root}Results/{name}/model/logs\", write_graph=True, write_images= True, update_freq=5),\n",
        "    CSVLogger(f\"{root}Results/{name}/model/{name}.csv\"),\n",
        "    json_logging_callback,\n",
        "            ]"
      ],
      "execution_count": null,
      "outputs": []
    },
    {
      "cell_type": "markdown",
      "metadata": {
        "id": "qD8px2aI42vM"
      },
      "source": [
        "#Importing Images"
      ]
    },
    {
      "cell_type": "code",
      "metadata": {
        "id": "eMFilVKI4457"
      },
      "source": [
        "# inputs = os.listdir(path_to_inputs)\n",
        "# outputs = os.listdir(path_to_outputs)\n",
        "# print(len(inputs))\n",
        "# print(len(outputs))\n",
        "# inputs.sort()\n",
        "# outputs.sort()\n",
        "\n",
        "# X = np.zeros((len(inputs), 256, 256, 1))\n",
        "# y = np.zeros((len(outputs), 256, 256, 1))\n",
        "# print(X.shape, y.shape)"
      ],
      "execution_count": null,
      "outputs": []
    },
    {
      "cell_type": "code",
      "metadata": {
        "id": "Wlqp44Pfrn5q"
      },
      "source": [
        "#!unrar x \"/content/drive/MyDrive/BadaniaMchtr/Datasets/dataset_9_Combined_to_pred_256x256_10-11-2021_11-24-53.rar\" \"/content/drive/MyDrive/BadaniaMchtr/Datasets/dataset_9_Combined_to_pred_256x256_10-11-2021_11-24-53/\""
      ],
      "execution_count": null,
      "outputs": []
    },
    {
      "cell_type": "code",
      "metadata": {
        "id": "rUBnSaBRZZTY",
        "colab": {
          "base_uri": "https://localhost:8080/"
        },
        "outputId": "47811db1-67d4-412e-b558-17302e552e8e"
      },
      "source": [
        "X = np.load(\"/content/drive/MyDrive/BadaniaMchtr/Datasets/dataset_9_Combined_to_pred_256x256_10-11-2021_11-24-53/X.npy\")\n",
        "y = np.load(\"/content/drive/MyDrive/BadaniaMchtr/Datasets/dataset_9_Combined_to_pred_256x256_10-11-2021_11-24-53/y.npy\")\n",
        "\n",
        "print(X.shape, y.shape)"
      ],
      "execution_count": null,
      "outputs": [
        {
          "output_type": "stream",
          "name": "stdout",
          "text": [
            "(5001, 256, 256, 1) (5001, 256, 256, 1)\n"
          ]
        }
      ]
    },
    {
      "cell_type": "code",
      "metadata": {
        "id": "eRGujCW4rXwX"
      },
      "source": [
        "# for i in tqdm(range(len(inputs)), desc=\"IMPORTING IMAGES: \"):\n",
        "\n",
        "#     wrapped = img_to_array(load_img(os.path.join(path_to_inputs, inputs[i]).replace('\\\\','/'), color_mode=\"grayscale\"))\n",
        "#     wrapped = resize(wrapped, (256,256,1), mode = 'constant', preserve_range = True)\n",
        "#     # Load unwrapped images (outputs)\n",
        "#     unwrapped = img_to_array(load_img(os.path.join(path_to_outputs, outputs[i]).replace('\\\\','/'), color_mode=\"grayscale\"))\n",
        "#     unwrapped = resize(unwrapped, (256,256,1), mode = 'constant', preserve_range = True)\n",
        "\n",
        "#     X[i] = wrapped.astype('float32')/coeff\n",
        "#     y[i] = unwrapped.astype('float32')/coeff\n",
        "\n",
        "# print(len(X))\n",
        "# print(len(y))"
      ],
      "execution_count": null,
      "outputs": []
    },
    {
      "cell_type": "code",
      "metadata": {
        "id": "Axq9IlIA497E"
      },
      "source": [
        "genConfig.write_cfg(cfg_dir, name, 'w', type_input = type1, type_output= type2, dataset = dataset)"
      ],
      "execution_count": null,
      "outputs": []
    },
    {
      "cell_type": "markdown",
      "metadata": {
        "id": "rxPWeH5X5dIp"
      },
      "source": [
        "# Train Test Splitting\n"
      ]
    },
    {
      "cell_type": "code",
      "metadata": {
        "id": "XOvcK16V5fEf",
        "colab": {
          "base_uri": "https://localhost:8080/"
        },
        "outputId": "58adf56a-8436-4a8b-c432-75952751f303"
      },
      "source": [
        "X_train, X_valid, y_train, y_valid = train_test_split(X, y, test_size=test_size, random_state=random_state)\n",
        "print(X_train.shape, X_valid.shape, y_train.shape, y_valid.shape)\n",
        "del X\n",
        "del y"
      ],
      "execution_count": null,
      "outputs": [
        {
          "output_type": "stream",
          "name": "stdout",
          "text": [
            "(3750, 256, 256, 1) (1251, 256, 256, 1) (3750, 256, 256, 1) (1251, 256, 256, 1)\n"
          ]
        }
      ]
    },
    {
      "cell_type": "code",
      "metadata": {
        "id": "a3uQuk5k5i2M"
      },
      "source": [
        "genConfig.write_cfg(cfg_dir, name, \"a\", test_size = test_size, random_state = random_state)"
      ],
      "execution_count": null,
      "outputs": []
    },
    {
      "cell_type": "markdown",
      "metadata": {
        "id": "X-vmgtPj5lQj"
      },
      "source": [
        "#Model Loading and Initialization"
      ]
    },
    {
      "cell_type": "code",
      "metadata": {
        "id": "vfjkcFwi5oDf",
        "colab": {
          "base_uri": "https://localhost:8080/"
        },
        "outputId": "e66a7708-f4f0-4018-d78e-76875f738f24"
      },
      "source": [
        "input_img = Input((256, 256, 1), name='img')\n",
        "model = UNetResNet_5lvl.get_unet(input_img, n_filters=n_filters, activation=activation_function)\n",
        "model.compile(optimizer=Adam(learning_rate=0.01), loss=SSIMLoss,  metrics=[\"accuracy\"])\n",
        "model.summary()"
      ],
      "execution_count": null,
      "outputs": [
        {
          "output_type": "stream",
          "name": "stdout",
          "text": [
            "Model: \"model\"\n",
            "__________________________________________________________________________________________________\n",
            "Layer (type)                    Output Shape         Param #     Connected to                     \n",
            "==================================================================================================\n",
            "img (InputLayer)                [(None, 256, 256, 1) 0                                            \n",
            "__________________________________________________________________________________________________\n",
            "conv2d (Conv2D)                 (None, 256, 256, 4)  40          img[0][0]                        \n",
            "__________________________________________________________________________________________________\n",
            "batch_normalization (BatchNorma (None, 256, 256, 4)  16          conv2d[0][0]                     \n",
            "__________________________________________________________________________________________________\n",
            "activation (Activation)         (None, 256, 256, 4)  0           batch_normalization[0][0]        \n",
            "__________________________________________________________________________________________________\n",
            "conv2d_1 (Conv2D)               (None, 256, 256, 4)  148         activation[0][0]                 \n",
            "__________________________________________________________________________________________________\n",
            "batch_normalization_1 (BatchNor (None, 256, 256, 4)  16          conv2d_1[0][0]                   \n",
            "__________________________________________________________________________________________________\n",
            "activation_1 (Activation)       (None, 256, 256, 4)  0           batch_normalization_1[0][0]      \n",
            "__________________________________________________________________________________________________\n",
            "conv2d_2 (Conv2D)               (None, 256, 256, 4)  148         activation_1[0][0]               \n",
            "__________________________________________________________________________________________________\n",
            "batch_normalization_2 (BatchNor (None, 256, 256, 4)  16          conv2d_2[0][0]                   \n",
            "__________________________________________________________________________________________________\n",
            "activation_2 (Activation)       (None, 256, 256, 4)  0           batch_normalization_2[0][0]      \n",
            "__________________________________________________________________________________________________\n",
            "add (Add)                       (None, 256, 256, 4)  0           activation[0][0]                 \n",
            "                                                                 activation_2[0][0]               \n",
            "__________________________________________________________________________________________________\n",
            "conv2d_3 (Conv2D)               (None, 256, 256, 4)  148         add[0][0]                        \n",
            "__________________________________________________________________________________________________\n",
            "batch_normalization_3 (BatchNor (None, 256, 256, 4)  16          conv2d_3[0][0]                   \n",
            "__________________________________________________________________________________________________\n",
            "activation_3 (Activation)       (None, 256, 256, 4)  0           batch_normalization_3[0][0]      \n",
            "__________________________________________________________________________________________________\n",
            "max_pooling2d (MaxPooling2D)    (None, 128, 128, 4)  0           activation_3[0][0]               \n",
            "__________________________________________________________________________________________________\n",
            "conv2d_4 (Conv2D)               (None, 128, 128, 8)  296         max_pooling2d[0][0]              \n",
            "__________________________________________________________________________________________________\n",
            "batch_normalization_4 (BatchNor (None, 128, 128, 8)  32          conv2d_4[0][0]                   \n",
            "__________________________________________________________________________________________________\n",
            "activation_4 (Activation)       (None, 128, 128, 8)  0           batch_normalization_4[0][0]      \n",
            "__________________________________________________________________________________________________\n",
            "conv2d_5 (Conv2D)               (None, 128, 128, 8)  584         activation_4[0][0]               \n",
            "__________________________________________________________________________________________________\n",
            "batch_normalization_5 (BatchNor (None, 128, 128, 8)  32          conv2d_5[0][0]                   \n",
            "__________________________________________________________________________________________________\n",
            "activation_5 (Activation)       (None, 128, 128, 8)  0           batch_normalization_5[0][0]      \n",
            "__________________________________________________________________________________________________\n",
            "conv2d_6 (Conv2D)               (None, 128, 128, 8)  584         activation_5[0][0]               \n",
            "__________________________________________________________________________________________________\n",
            "batch_normalization_6 (BatchNor (None, 128, 128, 8)  32          conv2d_6[0][0]                   \n",
            "__________________________________________________________________________________________________\n",
            "activation_6 (Activation)       (None, 128, 128, 8)  0           batch_normalization_6[0][0]      \n",
            "__________________________________________________________________________________________________\n",
            "add_1 (Add)                     (None, 128, 128, 8)  0           activation_4[0][0]               \n",
            "                                                                 activation_6[0][0]               \n",
            "__________________________________________________________________________________________________\n",
            "conv2d_7 (Conv2D)               (None, 128, 128, 8)  584         add_1[0][0]                      \n",
            "__________________________________________________________________________________________________\n",
            "batch_normalization_7 (BatchNor (None, 128, 128, 8)  32          conv2d_7[0][0]                   \n",
            "__________________________________________________________________________________________________\n",
            "activation_7 (Activation)       (None, 128, 128, 8)  0           batch_normalization_7[0][0]      \n",
            "__________________________________________________________________________________________________\n",
            "max_pooling2d_1 (MaxPooling2D)  (None, 64, 64, 8)    0           activation_7[0][0]               \n",
            "__________________________________________________________________________________________________\n",
            "conv2d_8 (Conv2D)               (None, 64, 64, 16)   1168        max_pooling2d_1[0][0]            \n",
            "__________________________________________________________________________________________________\n",
            "batch_normalization_8 (BatchNor (None, 64, 64, 16)   64          conv2d_8[0][0]                   \n",
            "__________________________________________________________________________________________________\n",
            "activation_8 (Activation)       (None, 64, 64, 16)   0           batch_normalization_8[0][0]      \n",
            "__________________________________________________________________________________________________\n",
            "conv2d_9 (Conv2D)               (None, 64, 64, 16)   2320        activation_8[0][0]               \n",
            "__________________________________________________________________________________________________\n",
            "batch_normalization_9 (BatchNor (None, 64, 64, 16)   64          conv2d_9[0][0]                   \n",
            "__________________________________________________________________________________________________\n",
            "activation_9 (Activation)       (None, 64, 64, 16)   0           batch_normalization_9[0][0]      \n",
            "__________________________________________________________________________________________________\n",
            "conv2d_10 (Conv2D)              (None, 64, 64, 16)   2320        activation_9[0][0]               \n",
            "__________________________________________________________________________________________________\n",
            "batch_normalization_10 (BatchNo (None, 64, 64, 16)   64          conv2d_10[0][0]                  \n",
            "__________________________________________________________________________________________________\n",
            "activation_10 (Activation)      (None, 64, 64, 16)   0           batch_normalization_10[0][0]     \n",
            "__________________________________________________________________________________________________\n",
            "add_2 (Add)                     (None, 64, 64, 16)   0           activation_8[0][0]               \n",
            "                                                                 activation_10[0][0]              \n",
            "__________________________________________________________________________________________________\n",
            "conv2d_11 (Conv2D)              (None, 64, 64, 16)   2320        add_2[0][0]                      \n",
            "__________________________________________________________________________________________________\n",
            "batch_normalization_11 (BatchNo (None, 64, 64, 16)   64          conv2d_11[0][0]                  \n",
            "__________________________________________________________________________________________________\n",
            "activation_11 (Activation)      (None, 64, 64, 16)   0           batch_normalization_11[0][0]     \n",
            "__________________________________________________________________________________________________\n",
            "max_pooling2d_2 (MaxPooling2D)  (None, 32, 32, 16)   0           activation_11[0][0]              \n",
            "__________________________________________________________________________________________________\n",
            "conv2d_12 (Conv2D)              (None, 32, 32, 32)   4640        max_pooling2d_2[0][0]            \n",
            "__________________________________________________________________________________________________\n",
            "batch_normalization_12 (BatchNo (None, 32, 32, 32)   128         conv2d_12[0][0]                  \n",
            "__________________________________________________________________________________________________\n",
            "activation_12 (Activation)      (None, 32, 32, 32)   0           batch_normalization_12[0][0]     \n",
            "__________________________________________________________________________________________________\n",
            "conv2d_13 (Conv2D)              (None, 32, 32, 32)   9248        activation_12[0][0]              \n",
            "__________________________________________________________________________________________________\n",
            "batch_normalization_13 (BatchNo (None, 32, 32, 32)   128         conv2d_13[0][0]                  \n",
            "__________________________________________________________________________________________________\n",
            "activation_13 (Activation)      (None, 32, 32, 32)   0           batch_normalization_13[0][0]     \n",
            "__________________________________________________________________________________________________\n",
            "conv2d_14 (Conv2D)              (None, 32, 32, 32)   9248        activation_13[0][0]              \n",
            "__________________________________________________________________________________________________\n",
            "batch_normalization_14 (BatchNo (None, 32, 32, 32)   128         conv2d_14[0][0]                  \n",
            "__________________________________________________________________________________________________\n",
            "activation_14 (Activation)      (None, 32, 32, 32)   0           batch_normalization_14[0][0]     \n",
            "__________________________________________________________________________________________________\n",
            "add_3 (Add)                     (None, 32, 32, 32)   0           activation_12[0][0]              \n",
            "                                                                 activation_14[0][0]              \n",
            "__________________________________________________________________________________________________\n",
            "conv2d_15 (Conv2D)              (None, 32, 32, 32)   9248        add_3[0][0]                      \n",
            "__________________________________________________________________________________________________\n",
            "batch_normalization_15 (BatchNo (None, 32, 32, 32)   128         conv2d_15[0][0]                  \n",
            "__________________________________________________________________________________________________\n",
            "activation_15 (Activation)      (None, 32, 32, 32)   0           batch_normalization_15[0][0]     \n",
            "__________________________________________________________________________________________________\n",
            "max_pooling2d_3 (MaxPooling2D)  (None, 16, 16, 32)   0           activation_15[0][0]              \n",
            "__________________________________________________________________________________________________\n",
            "conv2d_16 (Conv2D)              (None, 16, 16, 64)   18496       max_pooling2d_3[0][0]            \n",
            "__________________________________________________________________________________________________\n",
            "batch_normalization_16 (BatchNo (None, 16, 16, 64)   256         conv2d_16[0][0]                  \n",
            "__________________________________________________________________________________________________\n",
            "activation_16 (Activation)      (None, 16, 16, 64)   0           batch_normalization_16[0][0]     \n",
            "__________________________________________________________________________________________________\n",
            "conv2d_17 (Conv2D)              (None, 16, 16, 64)   36928       activation_16[0][0]              \n",
            "__________________________________________________________________________________________________\n",
            "batch_normalization_17 (BatchNo (None, 16, 16, 64)   256         conv2d_17[0][0]                  \n",
            "__________________________________________________________________________________________________\n",
            "activation_17 (Activation)      (None, 16, 16, 64)   0           batch_normalization_17[0][0]     \n",
            "__________________________________________________________________________________________________\n",
            "conv2d_18 (Conv2D)              (None, 16, 16, 64)   36928       activation_17[0][0]              \n",
            "__________________________________________________________________________________________________\n",
            "batch_normalization_18 (BatchNo (None, 16, 16, 64)   256         conv2d_18[0][0]                  \n",
            "__________________________________________________________________________________________________\n",
            "activation_18 (Activation)      (None, 16, 16, 64)   0           batch_normalization_18[0][0]     \n",
            "__________________________________________________________________________________________________\n",
            "add_4 (Add)                     (None, 16, 16, 64)   0           activation_16[0][0]              \n",
            "                                                                 activation_18[0][0]              \n",
            "__________________________________________________________________________________________________\n",
            "conv2d_19 (Conv2D)              (None, 16, 16, 64)   36928       add_4[0][0]                      \n",
            "__________________________________________________________________________________________________\n",
            "batch_normalization_19 (BatchNo (None, 16, 16, 64)   256         conv2d_19[0][0]                  \n",
            "__________________________________________________________________________________________________\n",
            "activation_19 (Activation)      (None, 16, 16, 64)   0           batch_normalization_19[0][0]     \n",
            "__________________________________________________________________________________________________\n",
            "max_pooling2d_4 (MaxPooling2D)  (None, 8, 8, 64)     0           activation_19[0][0]              \n",
            "__________________________________________________________________________________________________\n",
            "conv2d_20 (Conv2D)              (None, 8, 8, 128)    73856       max_pooling2d_4[0][0]            \n",
            "__________________________________________________________________________________________________\n",
            "batch_normalization_20 (BatchNo (None, 8, 8, 128)    512         conv2d_20[0][0]                  \n",
            "__________________________________________________________________________________________________\n",
            "activation_20 (Activation)      (None, 8, 8, 128)    0           batch_normalization_20[0][0]     \n",
            "__________________________________________________________________________________________________\n",
            "conv2d_21 (Conv2D)              (None, 8, 8, 128)    147584      activation_20[0][0]              \n",
            "__________________________________________________________________________________________________\n",
            "batch_normalization_21 (BatchNo (None, 8, 8, 128)    512         conv2d_21[0][0]                  \n",
            "__________________________________________________________________________________________________\n",
            "activation_21 (Activation)      (None, 8, 8, 128)    0           batch_normalization_21[0][0]     \n",
            "__________________________________________________________________________________________________\n",
            "conv2d_22 (Conv2D)              (None, 8, 8, 128)    147584      activation_21[0][0]              \n",
            "__________________________________________________________________________________________________\n",
            "batch_normalization_22 (BatchNo (None, 8, 8, 128)    512         conv2d_22[0][0]                  \n",
            "__________________________________________________________________________________________________\n",
            "activation_22 (Activation)      (None, 8, 8, 128)    0           batch_normalization_22[0][0]     \n",
            "__________________________________________________________________________________________________\n",
            "add_5 (Add)                     (None, 8, 8, 128)    0           activation_20[0][0]              \n",
            "                                                                 activation_22[0][0]              \n",
            "__________________________________________________________________________________________________\n",
            "conv2d_23 (Conv2D)              (None, 8, 8, 128)    147584      add_5[0][0]                      \n",
            "__________________________________________________________________________________________________\n",
            "batch_normalization_23 (BatchNo (None, 8, 8, 128)    512         conv2d_23[0][0]                  \n",
            "__________________________________________________________________________________________________\n",
            "activation_23 (Activation)      (None, 8, 8, 128)    0           batch_normalization_23[0][0]     \n",
            "__________________________________________________________________________________________________\n",
            "conv2d_transpose (Conv2DTranspo (None, 16, 16, 64)   73792       activation_23[0][0]              \n",
            "__________________________________________________________________________________________________\n",
            "concatenate (Concatenate)       (None, 16, 16, 128)  0           conv2d_transpose[0][0]           \n",
            "                                                                 activation_19[0][0]              \n",
            "__________________________________________________________________________________________________\n",
            "conv2d_24 (Conv2D)              (None, 16, 16, 32)   36896       concatenate[0][0]                \n",
            "__________________________________________________________________________________________________\n",
            "batch_normalization_24 (BatchNo (None, 16, 16, 32)   128         conv2d_24[0][0]                  \n",
            "__________________________________________________________________________________________________\n",
            "activation_24 (Activation)      (None, 16, 16, 32)   0           batch_normalization_24[0][0]     \n",
            "__________________________________________________________________________________________________\n",
            "conv2d_25 (Conv2D)              (None, 16, 16, 32)   9248        activation_24[0][0]              \n",
            "__________________________________________________________________________________________________\n",
            "batch_normalization_25 (BatchNo (None, 16, 16, 32)   128         conv2d_25[0][0]                  \n",
            "__________________________________________________________________________________________________\n",
            "activation_25 (Activation)      (None, 16, 16, 32)   0           batch_normalization_25[0][0]     \n",
            "__________________________________________________________________________________________________\n",
            "conv2d_26 (Conv2D)              (None, 16, 16, 32)   9248        activation_25[0][0]              \n",
            "__________________________________________________________________________________________________\n",
            "batch_normalization_26 (BatchNo (None, 16, 16, 32)   128         conv2d_26[0][0]                  \n",
            "__________________________________________________________________________________________________\n",
            "activation_26 (Activation)      (None, 16, 16, 32)   0           batch_normalization_26[0][0]     \n",
            "__________________________________________________________________________________________________\n",
            "add_6 (Add)                     (None, 16, 16, 32)   0           activation_24[0][0]              \n",
            "                                                                 activation_26[0][0]              \n",
            "__________________________________________________________________________________________________\n",
            "conv2d_27 (Conv2D)              (None, 16, 16, 32)   9248        add_6[0][0]                      \n",
            "__________________________________________________________________________________________________\n",
            "batch_normalization_27 (BatchNo (None, 16, 16, 32)   128         conv2d_27[0][0]                  \n",
            "__________________________________________________________________________________________________\n",
            "activation_27 (Activation)      (None, 16, 16, 32)   0           batch_normalization_27[0][0]     \n",
            "__________________________________________________________________________________________________\n",
            "conv2d_transpose_1 (Conv2DTrans (None, 32, 32, 32)   9248        activation_27[0][0]              \n",
            "__________________________________________________________________________________________________\n",
            "concatenate_1 (Concatenate)     (None, 32, 32, 64)   0           conv2d_transpose_1[0][0]         \n",
            "                                                                 activation_15[0][0]              \n",
            "__________________________________________________________________________________________________\n",
            "conv2d_28 (Conv2D)              (None, 32, 32, 32)   18464       concatenate_1[0][0]              \n",
            "__________________________________________________________________________________________________\n",
            "batch_normalization_28 (BatchNo (None, 32, 32, 32)   128         conv2d_28[0][0]                  \n",
            "__________________________________________________________________________________________________\n",
            "activation_28 (Activation)      (None, 32, 32, 32)   0           batch_normalization_28[0][0]     \n",
            "__________________________________________________________________________________________________\n",
            "conv2d_29 (Conv2D)              (None, 32, 32, 32)   9248        activation_28[0][0]              \n",
            "__________________________________________________________________________________________________\n",
            "batch_normalization_29 (BatchNo (None, 32, 32, 32)   128         conv2d_29[0][0]                  \n",
            "__________________________________________________________________________________________________\n",
            "activation_29 (Activation)      (None, 32, 32, 32)   0           batch_normalization_29[0][0]     \n",
            "__________________________________________________________________________________________________\n",
            "conv2d_30 (Conv2D)              (None, 32, 32, 32)   9248        activation_29[0][0]              \n",
            "__________________________________________________________________________________________________\n",
            "batch_normalization_30 (BatchNo (None, 32, 32, 32)   128         conv2d_30[0][0]                  \n",
            "__________________________________________________________________________________________________\n",
            "activation_30 (Activation)      (None, 32, 32, 32)   0           batch_normalization_30[0][0]     \n",
            "__________________________________________________________________________________________________\n",
            "add_7 (Add)                     (None, 32, 32, 32)   0           activation_28[0][0]              \n",
            "                                                                 activation_30[0][0]              \n",
            "__________________________________________________________________________________________________\n",
            "conv2d_31 (Conv2D)              (None, 32, 32, 32)   9248        add_7[0][0]                      \n",
            "__________________________________________________________________________________________________\n",
            "batch_normalization_31 (BatchNo (None, 32, 32, 32)   128         conv2d_31[0][0]                  \n",
            "__________________________________________________________________________________________________\n",
            "activation_31 (Activation)      (None, 32, 32, 32)   0           batch_normalization_31[0][0]     \n",
            "__________________________________________________________________________________________________\n",
            "conv2d_transpose_2 (Conv2DTrans (None, 64, 64, 16)   4624        activation_31[0][0]              \n",
            "__________________________________________________________________________________________________\n",
            "concatenate_2 (Concatenate)     (None, 64, 64, 32)   0           conv2d_transpose_2[0][0]         \n",
            "                                                                 activation_11[0][0]              \n",
            "__________________________________________________________________________________________________\n",
            "conv2d_32 (Conv2D)              (None, 64, 64, 16)   4624        concatenate_2[0][0]              \n",
            "__________________________________________________________________________________________________\n",
            "batch_normalization_32 (BatchNo (None, 64, 64, 16)   64          conv2d_32[0][0]                  \n",
            "__________________________________________________________________________________________________\n",
            "activation_32 (Activation)      (None, 64, 64, 16)   0           batch_normalization_32[0][0]     \n",
            "__________________________________________________________________________________________________\n",
            "conv2d_33 (Conv2D)              (None, 64, 64, 16)   2320        activation_32[0][0]              \n",
            "__________________________________________________________________________________________________\n",
            "batch_normalization_33 (BatchNo (None, 64, 64, 16)   64          conv2d_33[0][0]                  \n",
            "__________________________________________________________________________________________________\n",
            "activation_33 (Activation)      (None, 64, 64, 16)   0           batch_normalization_33[0][0]     \n",
            "__________________________________________________________________________________________________\n",
            "conv2d_34 (Conv2D)              (None, 64, 64, 16)   2320        activation_33[0][0]              \n",
            "__________________________________________________________________________________________________\n",
            "batch_normalization_34 (BatchNo (None, 64, 64, 16)   64          conv2d_34[0][0]                  \n",
            "__________________________________________________________________________________________________\n",
            "activation_34 (Activation)      (None, 64, 64, 16)   0           batch_normalization_34[0][0]     \n",
            "__________________________________________________________________________________________________\n",
            "add_8 (Add)                     (None, 64, 64, 16)   0           activation_32[0][0]              \n",
            "                                                                 activation_34[0][0]              \n",
            "__________________________________________________________________________________________________\n",
            "conv2d_35 (Conv2D)              (None, 64, 64, 16)   2320        add_8[0][0]                      \n",
            "__________________________________________________________________________________________________\n",
            "batch_normalization_35 (BatchNo (None, 64, 64, 16)   64          conv2d_35[0][0]                  \n",
            "__________________________________________________________________________________________________\n",
            "activation_35 (Activation)      (None, 64, 64, 16)   0           batch_normalization_35[0][0]     \n",
            "__________________________________________________________________________________________________\n",
            "conv2d_transpose_3 (Conv2DTrans (None, 128, 128, 8)  1160        activation_35[0][0]              \n",
            "__________________________________________________________________________________________________\n",
            "concatenate_3 (Concatenate)     (None, 128, 128, 16) 0           conv2d_transpose_3[0][0]         \n",
            "                                                                 activation_7[0][0]               \n",
            "__________________________________________________________________________________________________\n",
            "conv2d_36 (Conv2D)              (None, 128, 128, 8)  1160        concatenate_3[0][0]              \n",
            "__________________________________________________________________________________________________\n",
            "batch_normalization_36 (BatchNo (None, 128, 128, 8)  32          conv2d_36[0][0]                  \n",
            "__________________________________________________________________________________________________\n",
            "activation_36 (Activation)      (None, 128, 128, 8)  0           batch_normalization_36[0][0]     \n",
            "__________________________________________________________________________________________________\n",
            "conv2d_37 (Conv2D)              (None, 128, 128, 8)  584         activation_36[0][0]              \n",
            "__________________________________________________________________________________________________\n",
            "batch_normalization_37 (BatchNo (None, 128, 128, 8)  32          conv2d_37[0][0]                  \n",
            "__________________________________________________________________________________________________\n",
            "activation_37 (Activation)      (None, 128, 128, 8)  0           batch_normalization_37[0][0]     \n",
            "__________________________________________________________________________________________________\n",
            "conv2d_38 (Conv2D)              (None, 128, 128, 8)  584         activation_37[0][0]              \n",
            "__________________________________________________________________________________________________\n",
            "batch_normalization_38 (BatchNo (None, 128, 128, 8)  32          conv2d_38[0][0]                  \n",
            "__________________________________________________________________________________________________\n",
            "activation_38 (Activation)      (None, 128, 128, 8)  0           batch_normalization_38[0][0]     \n",
            "__________________________________________________________________________________________________\n",
            "add_9 (Add)                     (None, 128, 128, 8)  0           activation_36[0][0]              \n",
            "                                                                 activation_38[0][0]              \n",
            "__________________________________________________________________________________________________\n",
            "conv2d_39 (Conv2D)              (None, 128, 128, 8)  584         add_9[0][0]                      \n",
            "__________________________________________________________________________________________________\n",
            "batch_normalization_39 (BatchNo (None, 128, 128, 8)  32          conv2d_39[0][0]                  \n",
            "__________________________________________________________________________________________________\n",
            "activation_39 (Activation)      (None, 128, 128, 8)  0           batch_normalization_39[0][0]     \n",
            "__________________________________________________________________________________________________\n",
            "conv2d_transpose_4 (Conv2DTrans (None, 256, 256, 4)  292         activation_39[0][0]              \n",
            "__________________________________________________________________________________________________\n",
            "concatenate_4 (Concatenate)     (None, 256, 256, 8)  0           conv2d_transpose_4[0][0]         \n",
            "                                                                 activation_3[0][0]               \n",
            "__________________________________________________________________________________________________\n",
            "conv2d_40 (Conv2D)              (None, 256, 256, 4)  292         concatenate_4[0][0]              \n",
            "__________________________________________________________________________________________________\n",
            "batch_normalization_40 (BatchNo (None, 256, 256, 4)  16          conv2d_40[0][0]                  \n",
            "__________________________________________________________________________________________________\n",
            "activation_40 (Activation)      (None, 256, 256, 4)  0           batch_normalization_40[0][0]     \n",
            "__________________________________________________________________________________________________\n",
            "conv2d_41 (Conv2D)              (None, 256, 256, 4)  148         activation_40[0][0]              \n",
            "__________________________________________________________________________________________________\n",
            "batch_normalization_41 (BatchNo (None, 256, 256, 4)  16          conv2d_41[0][0]                  \n",
            "__________________________________________________________________________________________________\n",
            "activation_41 (Activation)      (None, 256, 256, 4)  0           batch_normalization_41[0][0]     \n",
            "__________________________________________________________________________________________________\n",
            "conv2d_42 (Conv2D)              (None, 256, 256, 4)  148         activation_41[0][0]              \n",
            "__________________________________________________________________________________________________\n",
            "batch_normalization_42 (BatchNo (None, 256, 256, 4)  16          conv2d_42[0][0]                  \n",
            "__________________________________________________________________________________________________\n",
            "activation_42 (Activation)      (None, 256, 256, 4)  0           batch_normalization_42[0][0]     \n",
            "__________________________________________________________________________________________________\n",
            "add_10 (Add)                    (None, 256, 256, 4)  0           activation_40[0][0]              \n",
            "                                                                 activation_42[0][0]              \n",
            "__________________________________________________________________________________________________\n",
            "conv2d_43 (Conv2D)              (None, 256, 256, 4)  148         add_10[0][0]                     \n",
            "__________________________________________________________________________________________________\n",
            "batch_normalization_43 (BatchNo (None, 256, 256, 4)  16          conv2d_43[0][0]                  \n",
            "__________________________________________________________________________________________________\n",
            "activation_43 (Activation)      (None, 256, 256, 4)  0           batch_normalization_43[0][0]     \n",
            "__________________________________________________________________________________________________\n",
            "conv2d_44 (Conv2D)              (None, 256, 256, 1)  5           activation_43[0][0]              \n",
            "==================================================================================================\n",
            "Total params: 909,637\n",
            "Trainable params: 906,885\n",
            "Non-trainable params: 2,752\n",
            "__________________________________________________________________________________________________\n"
          ]
        }
      ]
    },
    {
      "cell_type": "code",
      "metadata": {
        "id": "YO4fl63B5wwv"
      },
      "source": [
        "genConfig.write_cfg(cfg_dir,name, 'a', optimizer = \"Adam\", loss = comment, metrics = \"accuracy\", state = \"new\", n_filters = n_filters)"
      ],
      "execution_count": null,
      "outputs": []
    },
    {
      "cell_type": "markdown",
      "metadata": {
        "id": "KtJajT8U51Cb"
      },
      "source": [
        "#Model Fitting"
      ]
    },
    {
      "cell_type": "code",
      "metadata": {
        "id": "oY7mXctB53bG",
        "colab": {
          "base_uri": "https://localhost:8080/"
        },
        "outputId": "3ae77495-e322-4607-816f-555d82781b60"
      },
      "source": [
        "start = datetime.now()\n",
        "results = model.fit(X_train, y_train, batch_size=batch_size, epochs=epoch_limit, callbacks=callbacks,\n",
        "                     validation_data=(X_valid, y_valid))\n",
        "\n",
        "stop = datetime.now()"
      ],
      "execution_count": null,
      "outputs": [
        {
          "output_type": "stream",
          "name": "stderr",
          "text": [
            "/usr/local/lib/python3.7/dist-packages/keras/utils/generic_utils.py:497: CustomMaskWarning: Custom mask layers require a config and must override get_config. When loading, the custom mask layer must be passed to the custom_objects argument.\n",
            "  category=CustomMaskWarning)\n"
          ]
        },
        {
          "output_type": "stream",
          "name": "stdout",
          "text": [
            "Epoch 1/200\n",
            "235/235 [==============================] - 116s 333ms/step - loss: 0.2366 - accuracy: 0.0853 - val_loss: 0.1544 - val_accuracy: 0.0419\n",
            "\n",
            "Epoch 00001: val_loss improved from inf to 0.15444, saving model to /content/drive/MyDrive/BadaniaMchtr/Results/UNetResNet5lvl_resc_wrpd_10-14-2021_22-11-02_SSIMloss/model/UNetResNet5lvl_resc_wrpd_10-14-2021_22-11-02_SSIMloss.h5\n",
            "Epoch 2/200\n",
            "235/235 [==============================] - 73s 313ms/step - loss: 0.0444 - accuracy: 0.0924 - val_loss: 0.0440 - val_accuracy: 0.0955\n",
            "\n",
            "Epoch 00002: val_loss improved from 0.15444 to 0.04401, saving model to /content/drive/MyDrive/BadaniaMchtr/Results/UNetResNet5lvl_resc_wrpd_10-14-2021_22-11-02_SSIMloss/model/UNetResNet5lvl_resc_wrpd_10-14-2021_22-11-02_SSIMloss.h5\n",
            "Epoch 3/200\n",
            "235/235 [==============================] - 69s 295ms/step - loss: 0.0210 - accuracy: 0.0931 - val_loss: 0.0350 - val_accuracy: 0.0743\n",
            "\n",
            "Epoch 00003: val_loss improved from 0.04401 to 0.03500, saving model to /content/drive/MyDrive/BadaniaMchtr/Results/UNetResNet5lvl_resc_wrpd_10-14-2021_22-11-02_SSIMloss/model/UNetResNet5lvl_resc_wrpd_10-14-2021_22-11-02_SSIMloss.h5\n",
            "Epoch 4/200\n",
            "235/235 [==============================] - 73s 312ms/step - loss: 0.0184 - accuracy: 0.0948 - val_loss: 0.0321 - val_accuracy: 0.0952\n",
            "\n",
            "Epoch 00004: val_loss improved from 0.03500 to 0.03210, saving model to /content/drive/MyDrive/BadaniaMchtr/Results/UNetResNet5lvl_resc_wrpd_10-14-2021_22-11-02_SSIMloss/model/UNetResNet5lvl_resc_wrpd_10-14-2021_22-11-02_SSIMloss.h5\n",
            "Epoch 5/200\n",
            "235/235 [==============================] - 70s 296ms/step - loss: 0.0115 - accuracy: 0.0953 - val_loss: 0.0130 - val_accuracy: 0.0443\n",
            "\n",
            "Epoch 00005: val_loss improved from 0.03210 to 0.01300, saving model to /content/drive/MyDrive/BadaniaMchtr/Results/UNetResNet5lvl_resc_wrpd_10-14-2021_22-11-02_SSIMloss/model/UNetResNet5lvl_resc_wrpd_10-14-2021_22-11-02_SSIMloss.h5\n",
            "Epoch 6/200\n",
            "235/235 [==============================] - 70s 296ms/step - loss: 0.0109 - accuracy: 0.0948 - val_loss: 0.2446 - val_accuracy: 0.0525\n",
            "\n",
            "Epoch 00006: val_loss did not improve from 0.01300\n",
            "Epoch 7/200\n",
            "235/235 [==============================] - 73s 313ms/step - loss: 0.0124 - accuracy: 0.0943 - val_loss: 0.0160 - val_accuracy: 0.0919\n",
            "\n",
            "Epoch 00007: val_loss did not improve from 0.01300\n",
            "Epoch 8/200\n",
            "235/235 [==============================] - 70s 296ms/step - loss: 0.0093 - accuracy: 0.0944 - val_loss: 0.0205 - val_accuracy: 0.0437\n",
            "\n",
            "Epoch 00008: val_loss did not improve from 0.01300\n",
            "Epoch 9/200\n",
            "235/235 [==============================] - 74s 313ms/step - loss: 0.0094 - accuracy: 0.0958 - val_loss: 0.0131 - val_accuracy: 0.0938\n",
            "\n",
            "Epoch 00009: val_loss did not improve from 0.01300\n",
            "Epoch 10/200\n",
            "235/235 [==============================] - 70s 297ms/step - loss: 0.0128 - accuracy: 0.0885 - val_loss: 0.0120 - val_accuracy: 0.0948\n",
            "\n",
            "Epoch 00010: val_loss improved from 0.01300 to 0.01203, saving model to /content/drive/MyDrive/BadaniaMchtr/Results/UNetResNet5lvl_resc_wrpd_10-14-2021_22-11-02_SSIMloss/model/UNetResNet5lvl_resc_wrpd_10-14-2021_22-11-02_SSIMloss.h5\n",
            "Epoch 11/200\n",
            "235/235 [==============================] - 69s 296ms/step - loss: 0.0110 - accuracy: 0.0925 - val_loss: 0.3065 - val_accuracy: 0.0471\n",
            "\n",
            "Epoch 00011: val_loss did not improve from 0.01203\n",
            "Epoch 12/200\n",
            "235/235 [==============================] - 73s 313ms/step - loss: 0.0115 - accuracy: 0.0932 - val_loss: 0.0052 - val_accuracy: 0.0922\n",
            "\n",
            "Epoch 00012: val_loss improved from 0.01203 to 0.00522, saving model to /content/drive/MyDrive/BadaniaMchtr/Results/UNetResNet5lvl_resc_wrpd_10-14-2021_22-11-02_SSIMloss/model/UNetResNet5lvl_resc_wrpd_10-14-2021_22-11-02_SSIMloss.h5\n",
            "Epoch 13/200\n",
            "235/235 [==============================] - 74s 313ms/step - loss: 0.0081 - accuracy: 0.0949 - val_loss: 0.0113 - val_accuracy: 0.0945\n",
            "\n",
            "Epoch 00013: val_loss did not improve from 0.00522\n",
            "Epoch 14/200\n",
            "235/235 [==============================] - 70s 297ms/step - loss: 0.0070 - accuracy: 0.0951 - val_loss: 0.0041 - val_accuracy: 0.0933\n",
            "\n",
            "Epoch 00014: val_loss improved from 0.00522 to 0.00410, saving model to /content/drive/MyDrive/BadaniaMchtr/Results/UNetResNet5lvl_resc_wrpd_10-14-2021_22-11-02_SSIMloss/model/UNetResNet5lvl_resc_wrpd_10-14-2021_22-11-02_SSIMloss.h5\n",
            "Epoch 15/200\n",
            "235/235 [==============================] - 69s 296ms/step - loss: 0.0058 - accuracy: 0.0956 - val_loss: 0.0048 - val_accuracy: 0.0935\n",
            "\n",
            "Epoch 00015: val_loss did not improve from 0.00410\n",
            "Epoch 16/200\n",
            "235/235 [==============================] - 70s 296ms/step - loss: 0.0060 - accuracy: 0.0952 - val_loss: 0.0031 - val_accuracy: 0.0942\n",
            "\n",
            "Epoch 00016: val_loss improved from 0.00410 to 0.00307, saving model to /content/drive/MyDrive/BadaniaMchtr/Results/UNetResNet5lvl_resc_wrpd_10-14-2021_22-11-02_SSIMloss/model/UNetResNet5lvl_resc_wrpd_10-14-2021_22-11-02_SSIMloss.h5\n",
            "Epoch 17/200\n",
            "235/235 [==============================] - 73s 313ms/step - loss: 0.0079 - accuracy: 0.0954 - val_loss: 0.0295 - val_accuracy: 0.0948\n",
            "\n",
            "Epoch 00017: val_loss did not improve from 0.00307\n",
            "Epoch 18/200\n",
            "235/235 [==============================] - 74s 313ms/step - loss: 0.0048 - accuracy: 0.0956 - val_loss: 0.0061 - val_accuracy: 0.0949\n",
            "\n",
            "Epoch 00018: val_loss did not improve from 0.00307\n",
            "Epoch 19/200\n",
            "235/235 [==============================] - 73s 312ms/step - loss: 0.0076 - accuracy: 0.0951 - val_loss: 0.0245 - val_accuracy: 0.0933\n",
            "\n",
            "Epoch 00019: val_loss did not improve from 0.00307\n",
            "Epoch 20/200\n",
            "235/235 [==============================] - 70s 296ms/step - loss: 0.0068 - accuracy: 0.0950 - val_loss: 0.0034 - val_accuracy: 0.0933\n",
            "\n",
            "Epoch 00020: val_loss did not improve from 0.00307\n",
            "Epoch 21/200\n",
            "235/235 [==============================] - 73s 313ms/step - loss: 0.0056 - accuracy: 0.0954 - val_loss: 0.0165 - val_accuracy: 0.0954\n",
            "\n",
            "Epoch 00021: ReduceLROnPlateau reducing learning rate to 0.0009999999776482583.\n",
            "\n",
            "Epoch 00021: val_loss did not improve from 0.00307\n",
            "Epoch 22/200\n",
            "235/235 [==============================] - 70s 296ms/step - loss: 0.0046 - accuracy: 0.0961 - val_loss: 0.0019 - val_accuracy: 0.0948\n",
            "\n",
            "Epoch 00022: val_loss improved from 0.00307 to 0.00188, saving model to /content/drive/MyDrive/BadaniaMchtr/Results/UNetResNet5lvl_resc_wrpd_10-14-2021_22-11-02_SSIMloss/model/UNetResNet5lvl_resc_wrpd_10-14-2021_22-11-02_SSIMloss.h5\n",
            "Epoch 23/200\n",
            "235/235 [==============================] - 73s 312ms/step - loss: 0.0041 - accuracy: 0.0963 - val_loss: 0.0021 - val_accuracy: 0.0948\n",
            "\n",
            "Epoch 00023: val_loss did not improve from 0.00188\n",
            "Epoch 24/200\n",
            "235/235 [==============================] - 74s 314ms/step - loss: 0.0041 - accuracy: 0.0961 - val_loss: 0.0016 - val_accuracy: 0.0951\n",
            "\n",
            "Epoch 00024: val_loss improved from 0.00188 to 0.00164, saving model to /content/drive/MyDrive/BadaniaMchtr/Results/UNetResNet5lvl_resc_wrpd_10-14-2021_22-11-02_SSIMloss/model/UNetResNet5lvl_resc_wrpd_10-14-2021_22-11-02_SSIMloss.h5\n",
            "Epoch 25/200\n",
            "235/235 [==============================] - 74s 313ms/step - loss: 0.0040 - accuracy: 0.0961 - val_loss: 0.0020 - val_accuracy: 0.0951\n",
            "\n",
            "Epoch 00025: val_loss did not improve from 0.00164\n",
            "Epoch 26/200\n",
            "235/235 [==============================] - 70s 297ms/step - loss: 0.0038 - accuracy: 0.0958 - val_loss: 0.0022 - val_accuracy: 0.0964\n",
            "\n",
            "Epoch 00026: val_loss did not improve from 0.00164\n",
            "Epoch 27/200\n",
            "235/235 [==============================] - 73s 313ms/step - loss: 0.0036 - accuracy: 0.0963 - val_loss: 0.0016 - val_accuracy: 0.0954\n",
            "\n",
            "Epoch 00027: val_loss improved from 0.00164 to 0.00155, saving model to /content/drive/MyDrive/BadaniaMchtr/Results/UNetResNet5lvl_resc_wrpd_10-14-2021_22-11-02_SSIMloss/model/UNetResNet5lvl_resc_wrpd_10-14-2021_22-11-02_SSIMloss.h5\n",
            "Epoch 28/200\n",
            "235/235 [==============================] - 70s 297ms/step - loss: 0.0035 - accuracy: 0.0960 - val_loss: 0.0016 - val_accuracy: 0.0958\n",
            "\n",
            "Epoch 00028: val_loss did not improve from 0.00155\n",
            "Epoch 29/200\n",
            "235/235 [==============================] - 70s 296ms/step - loss: 0.0035 - accuracy: 0.0956 - val_loss: 0.0017 - val_accuracy: 0.0959\n",
            "\n",
            "Epoch 00029: ReduceLROnPlateau reducing learning rate to 9.999999310821295e-05.\n",
            "\n",
            "Epoch 00029: val_loss did not improve from 0.00155\n",
            "Epoch 30/200\n",
            "235/235 [==============================] - 70s 296ms/step - loss: 0.0035 - accuracy: 0.0963 - val_loss: 0.0014 - val_accuracy: 0.0957\n",
            "\n",
            "Epoch 00030: val_loss improved from 0.00155 to 0.00138, saving model to /content/drive/MyDrive/BadaniaMchtr/Results/UNetResNet5lvl_resc_wrpd_10-14-2021_22-11-02_SSIMloss/model/UNetResNet5lvl_resc_wrpd_10-14-2021_22-11-02_SSIMloss.h5\n",
            "Epoch 31/200\n",
            "235/235 [==============================] - 70s 296ms/step - loss: 0.0032 - accuracy: 0.0963 - val_loss: 0.0014 - val_accuracy: 0.0958\n",
            "\n",
            "Epoch 00031: val_loss did not improve from 0.00138\n",
            "Epoch 32/200\n",
            "235/235 [==============================] - 74s 313ms/step - loss: 0.0033 - accuracy: 0.0963 - val_loss: 0.0014 - val_accuracy: 0.0960\n",
            "\n",
            "Epoch 00032: val_loss did not improve from 0.00138\n",
            "Epoch 33/200\n",
            "235/235 [==============================] - 69s 295ms/step - loss: 0.0035 - accuracy: 0.0961 - val_loss: 0.0014 - val_accuracy: 0.0958\n",
            "\n",
            "Epoch 00033: val_loss did not improve from 0.00138\n",
            "Epoch 34/200\n",
            "235/235 [==============================] - 70s 297ms/step - loss: 0.0032 - accuracy: 0.0962 - val_loss: 0.0014 - val_accuracy: 0.0958\n",
            "\n",
            "Epoch 00034: val_loss did not improve from 0.00138\n",
            "Epoch 35/200\n",
            "235/235 [==============================] - 73s 313ms/step - loss: 0.0035 - accuracy: 0.0961 - val_loss: 0.0014 - val_accuracy: 0.0961\n",
            "\n",
            "Epoch 00035: ReduceLROnPlateau reducing learning rate to 9.999999019782991e-06.\n",
            "\n",
            "Epoch 00035: val_loss improved from 0.00138 to 0.00138, saving model to /content/drive/MyDrive/BadaniaMchtr/Results/UNetResNet5lvl_resc_wrpd_10-14-2021_22-11-02_SSIMloss/model/UNetResNet5lvl_resc_wrpd_10-14-2021_22-11-02_SSIMloss.h5\n",
            "Epoch 36/200\n",
            "235/235 [==============================] - 74s 313ms/step - loss: 0.0034 - accuracy: 0.0961 - val_loss: 0.0014 - val_accuracy: 0.0960\n",
            "\n",
            "Epoch 00036: val_loss did not improve from 0.00138\n",
            "Epoch 37/200\n",
            "235/235 [==============================] - 73s 312ms/step - loss: 0.0033 - accuracy: 0.0963 - val_loss: 0.0014 - val_accuracy: 0.0960\n",
            "\n",
            "Epoch 00037: val_loss improved from 0.00138 to 0.00137, saving model to /content/drive/MyDrive/BadaniaMchtr/Results/UNetResNet5lvl_resc_wrpd_10-14-2021_22-11-02_SSIMloss/model/UNetResNet5lvl_resc_wrpd_10-14-2021_22-11-02_SSIMloss.h5\n",
            "Epoch 38/200\n",
            "235/235 [==============================] - 70s 296ms/step - loss: 0.0031 - accuracy: 0.0962 - val_loss: 0.0014 - val_accuracy: 0.0961\n",
            "\n",
            "Epoch 00038: val_loss improved from 0.00137 to 0.00137, saving model to /content/drive/MyDrive/BadaniaMchtr/Results/UNetResNet5lvl_resc_wrpd_10-14-2021_22-11-02_SSIMloss/model/UNetResNet5lvl_resc_wrpd_10-14-2021_22-11-02_SSIMloss.h5\n",
            "Epoch 39/200\n",
            "235/235 [==============================] - 70s 296ms/step - loss: 0.0030 - accuracy: 0.0961 - val_loss: 0.0014 - val_accuracy: 0.0960\n",
            "\n",
            "Epoch 00039: val_loss did not improve from 0.00137\n",
            "Epoch 40/200\n",
            "235/235 [==============================] - 73s 312ms/step - loss: 0.0033 - accuracy: 0.0956 - val_loss: 0.0014 - val_accuracy: 0.0961\n",
            "\n",
            "Epoch 00040: ReduceLROnPlateau reducing learning rate to 9.99999883788405e-07.\n",
            "\n",
            "Epoch 00040: val_loss did not improve from 0.00137\n",
            "Epoch 41/200\n",
            "235/235 [==============================] - 73s 312ms/step - loss: 0.0031 - accuracy: 0.0962 - val_loss: 0.0014 - val_accuracy: 0.0961\n",
            "\n",
            "Epoch 00041: val_loss improved from 0.00137 to 0.00136, saving model to /content/drive/MyDrive/BadaniaMchtr/Results/UNetResNet5lvl_resc_wrpd_10-14-2021_22-11-02_SSIMloss/model/UNetResNet5lvl_resc_wrpd_10-14-2021_22-11-02_SSIMloss.h5\n",
            "Epoch 42/200\n",
            "235/235 [==============================] - 74s 313ms/step - loss: 0.0033 - accuracy: 0.0963 - val_loss: 0.0014 - val_accuracy: 0.0960\n",
            "\n",
            "Epoch 00042: val_loss improved from 0.00136 to 0.00136, saving model to /content/drive/MyDrive/BadaniaMchtr/Results/UNetResNet5lvl_resc_wrpd_10-14-2021_22-11-02_SSIMloss/model/UNetResNet5lvl_resc_wrpd_10-14-2021_22-11-02_SSIMloss.h5\n",
            "Epoch 43/200\n",
            "235/235 [==============================] - 74s 313ms/step - loss: 0.0032 - accuracy: 0.0962 - val_loss: 0.0014 - val_accuracy: 0.0961\n",
            "\n",
            "Epoch 00043: val_loss improved from 0.00136 to 0.00136, saving model to /content/drive/MyDrive/BadaniaMchtr/Results/UNetResNet5lvl_resc_wrpd_10-14-2021_22-11-02_SSIMloss/model/UNetResNet5lvl_resc_wrpd_10-14-2021_22-11-02_SSIMloss.h5\n",
            "Epoch 44/200\n",
            "235/235 [==============================] - 70s 297ms/step - loss: 0.0036 - accuracy: 0.0957 - val_loss: 0.0014 - val_accuracy: 0.0961\n",
            "\n",
            "Epoch 00044: val_loss improved from 0.00136 to 0.00136, saving model to /content/drive/MyDrive/BadaniaMchtr/Results/UNetResNet5lvl_resc_wrpd_10-14-2021_22-11-02_SSIMloss/model/UNetResNet5lvl_resc_wrpd_10-14-2021_22-11-02_SSIMloss.h5\n",
            "Epoch 45/200\n",
            "235/235 [==============================] - 73s 313ms/step - loss: 0.0032 - accuracy: 0.0960 - val_loss: 0.0014 - val_accuracy: 0.0960\n",
            "\n",
            "Epoch 00045: ReduceLROnPlateau reducing learning rate to 1e-07.\n",
            "\n",
            "Epoch 00045: val_loss did not improve from 0.00136\n",
            "Epoch 46/200\n",
            "235/235 [==============================] - 74s 313ms/step - loss: 0.0034 - accuracy: 0.0960 - val_loss: 0.0014 - val_accuracy: 0.0961\n",
            "\n",
            "Epoch 00046: val_loss did not improve from 0.00136\n",
            "Epoch 47/200\n",
            "235/235 [==============================] - 74s 313ms/step - loss: 0.0031 - accuracy: 0.0963 - val_loss: 0.0014 - val_accuracy: 0.0961\n",
            "\n",
            "Epoch 00047: val_loss did not improve from 0.00136\n",
            "Epoch 48/200\n",
            "235/235 [==============================] - 70s 296ms/step - loss: 0.0034 - accuracy: 0.0959 - val_loss: 0.0014 - val_accuracy: 0.0960\n",
            "\n",
            "Epoch 00048: val_loss did not improve from 0.00136\n",
            "Epoch 49/200\n",
            "235/235 [==============================] - 73s 313ms/step - loss: 0.0034 - accuracy: 0.0961 - val_loss: 0.0014 - val_accuracy: 0.0961\n",
            "\n",
            "Epoch 00049: val_loss did not improve from 0.00136\n",
            "Epoch 50/200\n",
            "235/235 [==============================] - 74s 313ms/step - loss: 0.0033 - accuracy: 0.0962 - val_loss: 0.0014 - val_accuracy: 0.0961\n",
            "\n",
            "Epoch 00050: val_loss did not improve from 0.00136\n",
            "Epoch 51/200\n",
            "235/235 [==============================] - 74s 313ms/step - loss: 0.0036 - accuracy: 0.0961 - val_loss: 0.0014 - val_accuracy: 0.0960\n",
            "\n",
            "Epoch 00051: val_loss did not improve from 0.00136\n",
            "Epoch 52/200\n",
            "235/235 [==============================] - 70s 297ms/step - loss: 0.0031 - accuracy: 0.0962 - val_loss: 0.0014 - val_accuracy: 0.0961\n",
            "\n",
            "Epoch 00052: val_loss did not improve from 0.00136\n",
            "Epoch 53/200\n",
            "235/235 [==============================] - 73s 313ms/step - loss: 0.0032 - accuracy: 0.0962 - val_loss: 0.0014 - val_accuracy: 0.0961\n",
            "\n",
            "Epoch 00053: val_loss improved from 0.00136 to 0.00135, saving model to /content/drive/MyDrive/BadaniaMchtr/Results/UNetResNet5lvl_resc_wrpd_10-14-2021_22-11-02_SSIMloss/model/UNetResNet5lvl_resc_wrpd_10-14-2021_22-11-02_SSIMloss.h5\n",
            "Epoch 54/200\n",
            "235/235 [==============================] - 74s 313ms/step - loss: 0.0037 - accuracy: 0.0954 - val_loss: 0.0014 - val_accuracy: 0.0961\n",
            "\n",
            "Epoch 00054: val_loss did not improve from 0.00135\n",
            "Epoch 55/200\n",
            "235/235 [==============================] - 74s 313ms/step - loss: 0.0034 - accuracy: 0.0961 - val_loss: 0.0014 - val_accuracy: 0.0961\n",
            "\n",
            "Epoch 00055: val_loss did not improve from 0.00135\n",
            "Epoch 56/200\n",
            "235/235 [==============================] - 70s 297ms/step - loss: 0.0036 - accuracy: 0.0961 - val_loss: 0.0014 - val_accuracy: 0.0960\n",
            "\n",
            "Epoch 00056: val_loss did not improve from 0.00135\n",
            "Epoch 57/200\n",
            "235/235 [==============================] - 73s 313ms/step - loss: 0.0034 - accuracy: 0.0962 - val_loss: 0.0014 - val_accuracy: 0.0961\n",
            "\n",
            "Epoch 00057: val_loss did not improve from 0.00135\n",
            "Epoch 58/200\n",
            "235/235 [==============================] - 74s 314ms/step - loss: 0.0030 - accuracy: 0.0963 - val_loss: 0.0014 - val_accuracy: 0.0960\n",
            "\n",
            "Epoch 00058: val_loss did not improve from 0.00135\n",
            "Epoch 59/200\n",
            "235/235 [==============================] - 74s 313ms/step - loss: 0.0033 - accuracy: 0.0961 - val_loss: 0.0014 - val_accuracy: 0.0961\n",
            "\n",
            "Epoch 00059: val_loss did not improve from 0.00135\n",
            "Epoch 60/200\n",
            "235/235 [==============================] - 74s 313ms/step - loss: 0.0031 - accuracy: 0.0963 - val_loss: 0.0014 - val_accuracy: 0.0961\n",
            "\n",
            "Epoch 00060: val_loss did not improve from 0.00135\n",
            "Epoch 61/200\n",
            "235/235 [==============================] - 74s 313ms/step - loss: 0.0033 - accuracy: 0.0959 - val_loss: 0.0014 - val_accuracy: 0.0960\n",
            "\n",
            "Epoch 00061: val_loss did not improve from 0.00135\n",
            "Epoch 62/200\n",
            "235/235 [==============================] - 74s 314ms/step - loss: 0.0031 - accuracy: 0.0959 - val_loss: 0.0014 - val_accuracy: 0.0960\n",
            "\n",
            "Epoch 00062: val_loss did not improve from 0.00135\n",
            "Epoch 63/200\n",
            "235/235 [==============================] - 70s 297ms/step - loss: 0.0032 - accuracy: 0.0963 - val_loss: 0.0014 - val_accuracy: 0.0961\n",
            "\n",
            "Epoch 00063: val_loss did not improve from 0.00135\n",
            "Epoch 64/200\n",
            "235/235 [==============================] - 69s 296ms/step - loss: 0.0033 - accuracy: 0.0962 - val_loss: 0.0014 - val_accuracy: 0.0960\n",
            "\n",
            "Epoch 00064: val_loss did not improve from 0.00135\n",
            "Epoch 65/200\n",
            "235/235 [==============================] - 70s 296ms/step - loss: 0.0034 - accuracy: 0.0961 - val_loss: 0.0014 - val_accuracy: 0.0961\n",
            "\n",
            "Epoch 00065: val_loss did not improve from 0.00135\n",
            "Epoch 66/200\n",
            "235/235 [==============================] - 74s 314ms/step - loss: 0.0032 - accuracy: 0.0961 - val_loss: 0.0014 - val_accuracy: 0.0961\n",
            "\n",
            "Epoch 00066: val_loss did not improve from 0.00135\n",
            "Epoch 67/200\n",
            "235/235 [==============================] - 70s 297ms/step - loss: 0.0034 - accuracy: 0.0961 - val_loss: 0.0014 - val_accuracy: 0.0960\n",
            "\n",
            "Epoch 00067: val_loss did not improve from 0.00135\n",
            "Epoch 68/200\n",
            "235/235 [==============================] - 74s 314ms/step - loss: 0.0029 - accuracy: 0.0964 - val_loss: 0.0014 - val_accuracy: 0.0961\n",
            "\n",
            "Epoch 00068: val_loss did not improve from 0.00135\n",
            "Epoch 69/200\n",
            "235/235 [==============================] - 74s 314ms/step - loss: 0.0033 - accuracy: 0.0964 - val_loss: 0.0014 - val_accuracy: 0.0961\n",
            "\n",
            "Epoch 00069: val_loss improved from 0.00135 to 0.00135, saving model to /content/drive/MyDrive/BadaniaMchtr/Results/UNetResNet5lvl_resc_wrpd_10-14-2021_22-11-02_SSIMloss/model/UNetResNet5lvl_resc_wrpd_10-14-2021_22-11-02_SSIMloss.h5\n",
            "Epoch 70/200\n",
            "235/235 [==============================] - 74s 314ms/step - loss: 0.0032 - accuracy: 0.0961 - val_loss: 0.0014 - val_accuracy: 0.0961\n",
            "\n",
            "Epoch 00070: val_loss did not improve from 0.00135\n",
            "Epoch 71/200\n",
            "235/235 [==============================] - 74s 314ms/step - loss: 0.0034 - accuracy: 0.0959 - val_loss: 0.0014 - val_accuracy: 0.0961\n",
            "\n",
            "Epoch 00071: val_loss did not improve from 0.00135\n",
            "Epoch 72/200\n",
            "235/235 [==============================] - 74s 314ms/step - loss: 0.0032 - accuracy: 0.0961 - val_loss: 0.0014 - val_accuracy: 0.0961\n",
            "\n",
            "Epoch 00072: val_loss did not improve from 0.00135\n",
            "Epoch 73/200\n",
            "235/235 [==============================] - 74s 315ms/step - loss: 0.0035 - accuracy: 0.0961 - val_loss: 0.0014 - val_accuracy: 0.0961\n",
            "\n",
            "Epoch 00073: val_loss did not improve from 0.00135\n",
            "Epoch 74/200\n",
            "235/235 [==============================] - 70s 298ms/step - loss: 0.0032 - accuracy: 0.0963 - val_loss: 0.0014 - val_accuracy: 0.0960\n",
            "\n",
            "Epoch 00074: val_loss did not improve from 0.00135\n",
            "Epoch 75/200\n",
            "235/235 [==============================] - 70s 298ms/step - loss: 0.0031 - accuracy: 0.0962 - val_loss: 0.0014 - val_accuracy: 0.0961\n",
            "\n",
            "Epoch 00075: val_loss did not improve from 0.00135\n",
            "Epoch 76/200\n",
            "235/235 [==============================] - 70s 298ms/step - loss: 0.0035 - accuracy: 0.0961 - val_loss: 0.0014 - val_accuracy: 0.0960\n",
            "\n",
            "Epoch 00076: val_loss did not improve from 0.00135\n",
            "Epoch 77/200\n",
            "235/235 [==============================] - 70s 298ms/step - loss: 0.0032 - accuracy: 0.0963 - val_loss: 0.0014 - val_accuracy: 0.0960\n",
            "\n",
            "Epoch 00077: val_loss did not improve from 0.00135\n",
            "Epoch 78/200\n",
            "235/235 [==============================] - 70s 297ms/step - loss: 0.0033 - accuracy: 0.0962 - val_loss: 0.0014 - val_accuracy: 0.0961\n",
            "\n",
            "Epoch 00078: val_loss did not improve from 0.00135\n",
            "Epoch 79/200\n",
            "235/235 [==============================] - 69s 295ms/step - loss: 0.0033 - accuracy: 0.0963 - val_loss: 0.0014 - val_accuracy: 0.0960\n",
            "\n",
            "Epoch 00079: val_loss did not improve from 0.00135\n",
            "Epoch 80/200\n",
            "235/235 [==============================] - 70s 296ms/step - loss: 0.0031 - accuracy: 0.0963 - val_loss: 0.0014 - val_accuracy: 0.0960\n",
            "\n",
            "Epoch 00080: val_loss did not improve from 0.00135\n",
            "Epoch 81/200\n",
            "235/235 [==============================] - 69s 295ms/step - loss: 0.0035 - accuracy: 0.0961 - val_loss: 0.0014 - val_accuracy: 0.0961\n",
            "\n",
            "Epoch 00081: val_loss did not improve from 0.00135\n",
            "Epoch 82/200\n",
            "235/235 [==============================] - 73s 312ms/step - loss: 0.0031 - accuracy: 0.0962 - val_loss: 0.0014 - val_accuracy: 0.0960\n",
            "\n",
            "Epoch 00082: val_loss did not improve from 0.00135\n",
            "Epoch 83/200\n",
            "235/235 [==============================] - 70s 296ms/step - loss: 0.0033 - accuracy: 0.0961 - val_loss: 0.0014 - val_accuracy: 0.0961\n",
            "\n",
            "Epoch 00083: val_loss did not improve from 0.00135\n",
            "Epoch 84/200\n",
            "235/235 [==============================] - 74s 313ms/step - loss: 0.0029 - accuracy: 0.0963 - val_loss: 0.0014 - val_accuracy: 0.0961\n",
            "\n",
            "Epoch 00084: val_loss did not improve from 0.00135\n",
            "Epoch 85/200\n",
            "235/235 [==============================] - 74s 313ms/step - loss: 0.0030 - accuracy: 0.0962 - val_loss: 0.0013 - val_accuracy: 0.0961\n",
            "\n",
            "Epoch 00085: val_loss improved from 0.00135 to 0.00135, saving model to /content/drive/MyDrive/BadaniaMchtr/Results/UNetResNet5lvl_resc_wrpd_10-14-2021_22-11-02_SSIMloss/model/UNetResNet5lvl_resc_wrpd_10-14-2021_22-11-02_SSIMloss.h5\n",
            "Epoch 86/200\n",
            "235/235 [==============================] - 70s 296ms/step - loss: 0.0033 - accuracy: 0.0962 - val_loss: 0.0014 - val_accuracy: 0.0960\n",
            "\n",
            "Epoch 00086: val_loss did not improve from 0.00135\n",
            "Epoch 87/200\n",
            "235/235 [==============================] - 70s 296ms/step - loss: 0.0032 - accuracy: 0.0962 - val_loss: 0.0014 - val_accuracy: 0.0961\n",
            "\n",
            "Epoch 00087: val_loss did not improve from 0.00135\n",
            "Epoch 88/200\n",
            "235/235 [==============================] - 74s 313ms/step - loss: 0.0032 - accuracy: 0.0963 - val_loss: 0.0014 - val_accuracy: 0.0960\n",
            "\n",
            "Epoch 00088: val_loss did not improve from 0.00135\n",
            "Epoch 89/200\n",
            "235/235 [==============================] - 70s 297ms/step - loss: 0.0031 - accuracy: 0.0963 - val_loss: 0.0014 - val_accuracy: 0.0961\n",
            "\n",
            "Epoch 00089: val_loss did not improve from 0.00135\n",
            "Epoch 90/200\n",
            "235/235 [==============================] - 74s 313ms/step - loss: 0.0035 - accuracy: 0.0963 - val_loss: 0.0014 - val_accuracy: 0.0960\n",
            "\n",
            "Epoch 00090: val_loss did not improve from 0.00135\n",
            "Epoch 91/200\n",
            "235/235 [==============================] - 70s 296ms/step - loss: 0.0036 - accuracy: 0.0961 - val_loss: 0.0014 - val_accuracy: 0.0961\n",
            "\n",
            "Epoch 00091: val_loss did not improve from 0.00135\n",
            "Epoch 92/200\n",
            "235/235 [==============================] - 74s 313ms/step - loss: 0.0032 - accuracy: 0.0962 - val_loss: 0.0014 - val_accuracy: 0.0961\n",
            "\n",
            "Epoch 00092: val_loss did not improve from 0.00135\n",
            "Epoch 93/200\n",
            "235/235 [==============================] - 70s 296ms/step - loss: 0.0029 - accuracy: 0.0962 - val_loss: 0.0014 - val_accuracy: 0.0960\n",
            "\n",
            "Epoch 00093: val_loss did not improve from 0.00135\n",
            "Epoch 94/200\n",
            "235/235 [==============================] - 70s 296ms/step - loss: 0.0033 - accuracy: 0.0961 - val_loss: 0.0014 - val_accuracy: 0.0960\n",
            "\n",
            "Epoch 00094: val_loss did not improve from 0.00135\n",
            "Epoch 95/200\n",
            "235/235 [==============================] - 70s 297ms/step - loss: 0.0031 - accuracy: 0.0962 - val_loss: 0.0014 - val_accuracy: 0.0960\n",
            "\n",
            "Epoch 00095: val_loss did not improve from 0.00135\n",
            "Epoch 96/200\n",
            "235/235 [==============================] - 70s 297ms/step - loss: 0.0031 - accuracy: 0.0963 - val_loss: 0.0014 - val_accuracy: 0.0961\n",
            "\n",
            "Epoch 00096: val_loss did not improve from 0.00135\n",
            "Epoch 97/200\n",
            "235/235 [==============================] - 70s 296ms/step - loss: 0.0031 - accuracy: 0.0961 - val_loss: 0.0014 - val_accuracy: 0.0960\n",
            "\n",
            "Epoch 00097: val_loss did not improve from 0.00135\n",
            "Epoch 98/200\n",
            "235/235 [==============================] - 74s 314ms/step - loss: 0.0031 - accuracy: 0.0963 - val_loss: 0.0014 - val_accuracy: 0.0960\n",
            "\n",
            "Epoch 00098: val_loss did not improve from 0.00135\n",
            "Epoch 99/200\n",
            "235/235 [==============================] - 70s 297ms/step - loss: 0.0032 - accuracy: 0.0961 - val_loss: 0.0014 - val_accuracy: 0.0960\n",
            "\n",
            "Epoch 00099: val_loss did not improve from 0.00135\n",
            "Epoch 100/200\n",
            "235/235 [==============================] - 74s 314ms/step - loss: 0.0039 - accuracy: 0.0951 - val_loss: 0.0014 - val_accuracy: 0.0960\n",
            "\n",
            "Epoch 00100: val_loss did not improve from 0.00135\n",
            "Epoch 101/200\n",
            "235/235 [==============================] - 74s 314ms/step - loss: 0.0031 - accuracy: 0.0962 - val_loss: 0.0014 - val_accuracy: 0.0961\n",
            "\n",
            "Epoch 00101: val_loss did not improve from 0.00135\n",
            "Epoch 102/200\n",
            "235/235 [==============================] - 74s 314ms/step - loss: 0.0033 - accuracy: 0.0962 - val_loss: 0.0014 - val_accuracy: 0.0960\n",
            "\n",
            "Epoch 00102: val_loss did not improve from 0.00135\n",
            "Epoch 103/200\n",
            "235/235 [==============================] - 74s 314ms/step - loss: 0.0030 - accuracy: 0.0959 - val_loss: 0.0014 - val_accuracy: 0.0960\n",
            "\n",
            "Epoch 00103: val_loss did not improve from 0.00135\n",
            "Epoch 104/200\n",
            "235/235 [==============================] - 70s 298ms/step - loss: 0.0034 - accuracy: 0.0959 - val_loss: 0.0014 - val_accuracy: 0.0960\n",
            "\n",
            "Epoch 00104: val_loss did not improve from 0.00135\n",
            "Epoch 105/200\n",
            "235/235 [==============================] - 70s 297ms/step - loss: 0.0035 - accuracy: 0.0954 - val_loss: 0.0014 - val_accuracy: 0.0961\n",
            "\n",
            "Epoch 00105: val_loss did not improve from 0.00135\n",
            "Epoch 106/200\n",
            "235/235 [==============================] - 70s 297ms/step - loss: 0.0034 - accuracy: 0.0959 - val_loss: 0.0014 - val_accuracy: 0.0961\n",
            "\n",
            "Epoch 00106: val_loss did not improve from 0.00135\n",
            "Epoch 00106: early stopping\n"
          ]
        }
      ]
    },
    {
      "cell_type": "code",
      "metadata": {
        "id": "kaTS-Phl57JH"
      },
      "source": [
        "time = stop - start"
      ],
      "execution_count": null,
      "outputs": []
    },
    {
      "cell_type": "code",
      "metadata": {
        "id": "fCiJUFED576J"
      },
      "source": [
        "genConfig.write_cfg(cfg_dir,name, \"a\", batch_size = batch_size, epoch_limit = epoch_limit, time = time, activation_function = activation_function)\n"
      ],
      "execution_count": null,
      "outputs": []
    },
    {
      "cell_type": "markdown",
      "metadata": {
        "id": "8xBhPseU5_pP"
      },
      "source": [
        "#Plotting Results"
      ]
    },
    {
      "cell_type": "code",
      "metadata": {
        "id": "54rgm4sQ6B_0"
      },
      "source": [
        ""
      ],
      "execution_count": null,
      "outputs": []
    },
    {
      "cell_type": "code",
      "metadata": {
        "id": "IKlMp4fP6DvJ",
        "colab": {
          "base_uri": "https://localhost:8080/",
          "height": 655
        },
        "outputId": "812b8052-9753-49c7-8e73-1b967339501d"
      },
      "source": [
        "plotter.plot_model_data(model, name, results, root)\n",
        "genConfig.write_cfg(cfg_dir,name, \"a\",  best_loss = np.min(results.history[\"val_loss\"]), for_epoch_loss = np.argmin(results.history[\"val_loss\"]), best_acc = np.max(results.history[\"val_accuracy\"]), for_epoch_acc = np.argmax(results.history[\"val_accuracy\"]))\n"
      ],
      "execution_count": null,
      "outputs": [
        {
          "output_type": "stream",
          "name": "stdout",
          "text": [
            "dot: graph is too large for cairo-renderer bitmaps. Scaling by 0.497737 to fit\n",
            "\n"
          ]
        },
        {
          "output_type": "display_data",
          "data": {
            "image/png": "[encoded data removed]",
            "text/plain": [
              "<Figure size 720x720 with 1 Axes>"
            ]
          },
          "metadata": {
            "needs_background": "light"
          }
        }
      ]
    },
    {
      "cell_type": "markdown",
      "metadata": {
        "id": "8aTb-t6i6GUQ"
      },
      "source": [
        "#Model Evaluation"
      ]
    },
    {
      "cell_type": "code",
      "metadata": {
        "id": "bmKoDryz6Iio",
        "colab": {
          "base_uri": "https://localhost:8080/"
        },
        "outputId": "a8ad9981-0b11-4ab1-f70d-5812f71e5e34"
      },
      "source": [
        "score, acc = model.evaluate(X_train, y_train,\n",
        "                            batch_size=batch_size)\n",
        "print('Train score:', score)\n",
        "print('Train accuracy:', acc)"
      ],
      "execution_count": null,
      "outputs": [
        {
          "output_type": "stream",
          "name": "stdout",
          "text": [
            "235/235 [==============================] - 20s 86ms/step - loss: 0.0013 - accuracy: 0.0974\n",
            "Train score: 0.0012977768201380968\n",
            "Train accuracy: 0.0974162146449089\n"
          ]
        }
      ]
    },
    {
      "cell_type": "code",
      "metadata": {
        "id": "UJBWrmf46LYE"
      },
      "source": [
        "genConfig.write_cfg(cfg_dir,name, \"a\", train_score = score, train_acc =acc)\n"
      ],
      "execution_count": null,
      "outputs": []
    },
    {
      "cell_type": "code",
      "metadata": {
        "id": "JUTlvV476MWx",
        "colab": {
          "base_uri": "https://localhost:8080/"
        },
        "outputId": "b8286edf-ab9c-444b-e861-7760707fbd0c"
      },
      "source": [
        "score, acc = model.evaluate(X_valid, y_valid,\n",
        "                            batch_size=batch_size)\n",
        "print('Test score:', score)\n",
        "print('Test accuracy:', acc)"
      ],
      "execution_count": null,
      "outputs": [
        {
          "output_type": "stream",
          "name": "stdout",
          "text": [
            "79/79 [==============================] - 7s 86ms/step - loss: 0.0014 - accuracy: 0.0961\n",
            "Test score: 0.0013648903695866466\n",
            "Test accuracy: 0.09610448777675629\n"
          ]
        }
      ]
    },
    {
      "cell_type": "code",
      "metadata": {
        "id": "d7gQ9g696PpS"
      },
      "source": [
        "genConfig.write_cfg(cfg_dir,name, \"a\", test_score = score, test_acc =acc)\n"
      ],
      "execution_count": null,
      "outputs": []
    },
    {
      "cell_type": "code",
      "metadata": {
        "id": "axl_aAmXFmIn",
        "colab": {
          "base_uri": "https://localhost:8080/"
        },
        "outputId": "a8f44d97-4d42-43ba-ce33-071e95f66889"
      },
      "source": [
        "!apt-get install rar"
      ],
      "execution_count": null,
      "outputs": [
        {
          "output_type": "stream",
          "name": "stdout",
          "text": [
            "Reading package lists... Done\n",
            "Building dependency tree       \n",
            "Reading state information... Done\n",
            "The following NEW packages will be installed:\n",
            "  rar\n",
            "0 upgraded, 1 newly installed, 0 to remove and 37 not upgraded.\n",
            "Need to get 295 kB of archives.\n",
            "After this operation, 799 kB of additional disk space will be used.\n",
            "Get:1 http://archive.ubuntu.com/ubuntu bionic/multiverse amd64 rar amd64 2:5.5.0-1 [295 kB]\n",
            "Fetched 295 kB in 1s (470 kB/s)\n",
            "Selecting previously unselected package rar.\n",
            "(Reading database ... 155047 files and directories currently installed.)\n",
            "Preparing to unpack .../rar_2%3a5.5.0-1_amd64.deb ...\n",
            "Unpacking rar (2:5.5.0-1) ...\n",
            "Setting up rar (2:5.5.0-1) ...\n",
            "Processing triggers for man-db (2.8.3-2ubuntu0.1) ...\n"
          ]
        }
      ]
    },
    {
      "cell_type": "code",
      "metadata": {
        "id": "UkBX7_-KplhS",
        "colab": {
          "base_uri": "https://localhost:8080/",
          "height": 649
        },
        "outputId": "734534e9-0648-4c0b-be20-e290c5af1db0"
      },
      "source": [
        "name = \"UNetResNet5lvl_resc_wrpd_10-14-2021_22-11-02_SSIMloss\"\n",
        "!rar a '/content/drive/MyDrive/UNetResNet5lvl_resc_wrpd_10-14-2021_22-11-02_SSIMloss_Results' '/content/drive/MyDrive/BadaniaMchtr/Results/UNetResNet5lvl_resc_wrpd_10-14-2021_22-11-02_SSIMloss'\n",
        "from google.colab import files\n",
        "files.download(\"/content/drive/MyDrive/UNetResNet5lvl_resc_wrpd_10-14-2021_22-11-02_SSIMloss_Results.rar\")\n"
      ],
      "execution_count": 12,
      "outputs": [
        {
          "output_type": "stream",
          "name": "stdout",
          "text": [
            "\n",
            "RAR 5.50   Copyright (c) 1993-2017 Alexander Roshal   11 Aug 2017\n",
            "Trial version             Type 'rar -?' for help\n",
            "\n",
            "Evaluation copy. Please register.\n",
            "\n",
            "Creating archive /content/drive/MyDrive/UNetResNet5lvl_resc_wrpd_10-14-2021_22-11-02_SSIMloss_Results.rar\n",
            "\n",
            "Adding    /content/drive/MyDrive/BadaniaMchtr/Results/UNetResNet5lvl_resc_wrpd_10-14-2021_22-11-02_SSIMloss/model/logs/train/events.out.tfevents.1634249645.1ae09c138269.profile-empty     \b\b\b\b  0%\b\b\b\b\b  OK \n",
            "Adding    /content/drive/MyDrive/BadaniaMchtr/Results/UNetResNet5lvl_resc_wrpd_10-14-2021_22-11-02_SSIMloss/model/logs/train/plugins/profile/2021_10_14_22_14_05/1ae09c138269.trace.json.gz     \b\b\b\b  1%\b\b\b\b\b  OK \n",
            "Adding    /content/drive/MyDrive/BadaniaMchtr/Results/UNetResNet5lvl_resc_wrpd_10-14-2021_22-11-02_SSIMloss/model/logs/train/plugins/profile/2021_10_14_22_14_05/1ae09c138269.memory_profile.json.gz     \b\b\b\b  1%\b\b\b\b\b  OK \n",
            "Adding    /content/drive/MyDrive/BadaniaMchtr/Results/UNetResNet5lvl_resc_wrpd_10-14-2021_22-11-02_SSIMloss/model/logs/train/plugins/profile/2021_10_14_22_14_05/1ae09c138269.xplane.pb     \b\b\b\b  7%\b\b\b\b\b  OK \n",
            "Adding    /content/drive/MyDrive/BadaniaMchtr/Results/UNetResNet5lvl_resc_wrpd_10-14-2021_22-11-02_SSIMloss/model/logs/train/plugins/profile/2021_10_14_22_14_05/1ae09c138269.overview_page.pb     \b\b\b\b  7%\b\b\b\b\b  OK \n",
            "Adding    /content/drive/MyDrive/BadaniaMchtr/Results/UNetResNet5lvl_resc_wrpd_10-14-2021_22-11-02_SSIMloss/model/logs/train/plugins/profile/2021_10_14_22_14_05/1ae09c138269.input_pipeline.pb     \b\b\b\b  7%\b\b\b\b\b  OK \n",
            "Adding    /content/drive/MyDrive/BadaniaMchtr/Results/UNetResNet5lvl_resc_wrpd_10-14-2021_22-11-02_SSIMloss/model/logs/train/plugins/profile/2021_10_14_22_14_05/1ae09c138269.tensorflow_stats.pb     \b\b\b\b  8%\b\b\b\b\b  OK \n",
            "Adding    /content/drive/MyDrive/BadaniaMchtr/Results/UNetResNet5lvl_resc_wrpd_10-14-2021_22-11-02_SSIMloss/model/logs/train/plugins/profile/2021_10_14_22_14_05/1ae09c138269.kernel_stats.pb     \b\b\b\b 10%\b\b\b\b\b  OK \n",
            "Adding    /content/drive/MyDrive/BadaniaMchtr/Results/UNetResNet5lvl_resc_wrpd_10-14-2021_22-11-02_SSIMloss/model/logs/train/events.out.tfevents.1634249606.1ae09c138269.1566.0.v2     \b\b\b\b 18%\b\b\b\b\b  OK \n",
            "Adding    /content/drive/MyDrive/BadaniaMchtr/Results/UNetResNet5lvl_resc_wrpd_10-14-2021_22-11-02_SSIMloss/model/logs/validation/events.out.tfevents.1634249710.1ae09c138269.1566.1.v2     \b\b\b\b 18%\b\b\b\b\b  OK \n",
            "Adding    /content/drive/MyDrive/BadaniaMchtr/Results/UNetResNet5lvl_resc_wrpd_10-14-2021_22-11-02_SSIMloss/model/UNetResNet5lvl_resc_wrpd_10-14-2021_22-11-02_SSIMloss.csv     \b\b\b\b 18%\b\b\b\b\b  OK \n",
            "Adding    /content/drive/MyDrive/BadaniaMchtr/Results/UNetResNet5lvl_resc_wrpd_10-14-2021_22-11-02_SSIMloss/model/UNetResNet5lvl_resc_wrpd_10-14-2021_22-11-02_SSIMloss.h5     \b\b\b\b 42%\b\b\b\b 65%\b\b\b\b 84%\b\b\b\b\b  OK \n",
            "Adding    /content/drive/MyDrive/BadaniaMchtr/Results/UNetResNet5lvl_resc_wrpd_10-14-2021_22-11-02_SSIMloss/cfg/UNetResNet5lvl_resc_wrpd_10-14-2021_22-11-02_SSIMloss.txt     \b\b\b\b 84%\b\b\b\b\b  OK \n",
            "Adding    /content/drive/MyDrive/BadaniaMchtr/Results/UNetResNet5lvl_resc_wrpd_10-14-2021_22-11-02_SSIMloss/UNetResNet5lvl_resc_wrpd_10-14-2021_22-11-02_SSIMloss_loss_log.json     \b\b\b\b 84%\b\b\b\b\b  OK \n",
            "Adding    /content/drive/MyDrive/BadaniaMchtr/Results/UNetResNet5lvl_resc_wrpd_10-14-2021_22-11-02_SSIMloss/UNetResNet5lvl_resc_wrpd_10-14-2021_22-11-02_SSIMlossmodel_'LR'.jpg     \b\b\b\b 88%\b\b\b\b\b  OK \n",
            "Adding    /content/drive/MyDrive/BadaniaMchtr/Results/UNetResNet5lvl_resc_wrpd_10-14-2021_22-11-02_SSIMloss/UNetResNet5lvl_resc_wrpd_10-14-2021_22-11-02_SSIMlossmodel_'TB'.jpg     \b\b\b\b 99%\b\b\b\b\b  OK \n",
            "Adding    /content/drive/MyDrive/BadaniaMchtr/Results/UNetResNet5lvl_resc_wrpd_10-14-2021_22-11-02_SSIMloss/loss_UNetResNet5lvl_resc_wrpd_10-14-2021_22-11-02_SSIMloss.jpg     \b\b\b\b 99%\b\b\b\b\b  OK \n",
            "Adding    /content/drive/MyDrive/BadaniaMchtr/Results/UNetResNet5lvl_resc_wrpd_10-14-2021_22-11-02_SSIMloss/acc_UNetResNet5lvl_resc_wrpd_10-14-2021_22-11-02_SSIMloss.jpg     \b\b\b\b 99%\b\b\b\b\b  OK \n",
            "Adding    /content/drive/MyDrive/BadaniaMchtr/Results/UNetResNet5lvl_resc_wrpd_10-14-2021_22-11-02_SSIMloss/model/logs/train/plugins/profile/2021_10_14_22_14_05     \b\b\b\b\b  OK \n",
            "Adding    /content/drive/MyDrive/BadaniaMchtr/Results/UNetResNet5lvl_resc_wrpd_10-14-2021_22-11-02_SSIMloss/model/logs/train/plugins/profile     \b\b\b\b\b  OK \n",
            "Adding    /content/drive/MyDrive/BadaniaMchtr/Results/UNetResNet5lvl_resc_wrpd_10-14-2021_22-11-02_SSIMloss/model/logs/train/plugins     \b\b\b\b\b  OK \n",
            "Adding    /content/drive/MyDrive/BadaniaMchtr/Results/UNetResNet5lvl_resc_wrpd_10-14-2021_22-11-02_SSIMloss/model/logs/train     \b\b\b\b\b  OK \n",
            "Adding    /content/drive/MyDrive/BadaniaMchtr/Results/UNetResNet5lvl_resc_wrpd_10-14-2021_22-11-02_SSIMloss/model/logs/validation     \b\b\b\b\b  OK \n",
            "Adding    /content/drive/MyDrive/BadaniaMchtr/Results/UNetResNet5lvl_resc_wrpd_10-14-2021_22-11-02_SSIMloss/model/logs     \b\b\b\b\b  OK \n",
            "Adding    /content/drive/MyDrive/BadaniaMchtr/Results/UNetResNet5lvl_resc_wrpd_10-14-2021_22-11-02_SSIMloss/model     \b\b\b\b\b  OK \n",
            "Adding    /content/drive/MyDrive/BadaniaMchtr/Results/UNetResNet5lvl_resc_wrpd_10-14-2021_22-11-02_SSIMloss/cfg     \b\b\b\b\b  OK \n",
            "Adding    /content/drive/MyDrive/BadaniaMchtr/Results/UNetResNet5lvl_resc_wrpd_10-14-2021_22-11-02_SSIMloss     \b\b\b\b\b  OK \n",
            "Done\n"
          ]
        },
        {
          "output_type": "display_data",
          "data": {
            "application/javascript": [
              "\n",
              "    async function download(id, filename, size) {\n",
              "      if (!google.colab.kernel.accessAllowed) {\n",
              "        return;\n",
              "      }\n",
              "      const div = document.createElement('div');\n",
              "      const label = document.createElement('label');\n",
              "      label.textContent = `Downloading \"${filename}\": `;\n",
              "      div.appendChild(label);\n",
              "      const progress = document.createElement('progress');\n",
              "      progress.max = size;\n",
              "      div.appendChild(progress);\n",
              "      document.body.appendChild(div);\n",
              "\n",
              "      const buffers = [];\n",
              "      let downloaded = 0;\n",
              "\n",
              "      const channel = await google.colab.kernel.comms.open(id);\n",
              "      // Send a message to notify the kernel that we're ready.\n",
              "      channel.send({})\n",
              "\n",
              "      for await (const message of channel.messages) {\n",
              "        // Send a message to notify the kernel that we're ready.\n",
              "        channel.send({})\n",
              "        if (message.buffers) {\n",
              "          for (const buffer of message.buffers) {\n",
              "            buffers.push(buffer);\n",
              "            downloaded += buffer.byteLength;\n",
              "            progress.value = downloaded;\n",
              "          }\n",
              "        }\n",
              "      }\n",
              "      const blob = new Blob(buffers, {type: 'application/binary'});\n",
              "      const a = document.createElement('a');\n",
              "      a.href = window.URL.createObjectURL(blob);\n",
              "      a.download = filename;\n",
              "      div.appendChild(a);\n",
              "      a.click();\n",
              "      div.remove();\n",
              "    }\n",
              "  "
            ],
            "text/plain": [
              "<IPython.core.display.Javascript object>"
            ]
          },
          "metadata": {}
        },
        {
          "output_type": "display_data",
          "data": {
            "application/javascript": [
              "download(\"download_c529574e-30e9-4f19-9358-66b5e0c934fb\", \"UNetResNet5lvl_resc_wrpd_10-14-2021_22-11-02_SSIMloss_Results.rar\", 12260366)"
            ],
            "text/plain": [
              "<IPython.core.display.Javascript object>"
            ]
          },
          "metadata": {}
        }
      ]
    },
    {
      "cell_type": "code",
      "metadata": {
        "id": "tX3CACHIvv1L"
      },
      "source": [
        ""
      ],
      "execution_count": null,
      "outputs": []
    },
    {
      "cell_type": "code",
      "metadata": {
        "id": "Twx05D5Qvy8E"
      },
      "source": [
        ""
      ],
      "execution_count": null,
      "outputs": []
    }
  ]
}