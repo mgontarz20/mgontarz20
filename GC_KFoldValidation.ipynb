{
  "nbformat": 4,
  "nbformat_minor": 0,
  "metadata": {
    "colab": {
      "name": "GC_KFoldValidation.ipynb",
      "provenance": [],
      "collapsed_sections": [],
      "mount_file_id": "1NeOzZMddtrFkUdSpQSiMWxBQjk1sAQCx",
      "authorship_tag": "ABX9TyMY4Zhbur6dDCRatDTw6pFa",
      "include_colab_link": true
    },
    "kernelspec": {
      "name": "python3",
      "display_name": "Python 3"
    },
    "language_info": {
      "name": "python"
    },
    "accelerator": "GPU"
  },
  "cells": [
    {
      "cell_type": "markdown",
      "metadata": {
        "id": "view-in-github",
        "colab_type": "text"
      },
      "source": [
        "<a href=\"https://colab.research.google.com/github/mgontarz20/mgontarz20/blob/main/GC_KFoldValidation.ipynb\" target=\"_parent\"><img src=\"https://colab.research.google.com/assets/colab-badge.svg\" alt=\"Open In Colab\"/></a>"
      ]
    },
    {
      "cell_type": "markdown",
      "metadata": {
        "id": "gPD8zIwh3rl9"
      },
      "source": [
        "# Library Imports\n"
      ]
    },
    {
      "cell_type": "code",
      "metadata": {
        "id": "gNHDQWfK3xvG"
      },
      "source": [
        "import sys\n",
        "sys.path.append('/content/drive/MyDrive/BadaniaMchtr')\n",
        "import numpy as np\n",
        "import os\n",
        "import tqdm\n",
        "from tqdm import tqdm\n",
        "from keras.losses import MeanSquaredError, SparseCategoricalCrossentropy\n",
        "from keras.utils.vis_utils import plot_model\n",
        "from keras.preprocessing.image import img_to_array, load_img\n",
        "from skimage.transform import resize\n",
        "from sklearn.model_selection import train_test_split\n",
        "from keras.layers import Input\n",
        "from tensorflow.keras.optimizers import Adam\n",
        "from keras.callbacks import ModelCheckpoint, EarlyStopping, ReduceLROnPlateau, TensorBoard,CSVLogger,LambdaCallback\n",
        "import matplotlib.pyplot as plt\n",
        "import tensorflow as tf\n",
        "from tensorflow import keras\n",
        "from datetime import datetime\n",
        "from sklearn.model_selection import KFold\n",
        "import json\n"
      ],
      "execution_count": null,
      "outputs": []
    },
    {
      "cell_type": "markdown",
      "metadata": {
        "id": "Vi6UNaVE3qjk"
      },
      "source": [
        "#User Imports"
      ]
    },
    {
      "cell_type": "code",
      "metadata": {
        "id": "c_ZJYDAn32cm"
      },
      "source": [
        "import genConfig\n",
        "import plotter\n",
        "import UNetResNet_5lvl"
      ],
      "execution_count": null,
      "outputs": []
    },
    {
      "cell_type": "code",
      "metadata": {
        "id": "dRtSE_62IwmY"
      },
      "source": [
        ""
      ],
      "execution_count": null,
      "outputs": []
    },
    {
      "cell_type": "markdown",
      "metadata": {
        "id": "uQU1P43a38mS"
      },
      "source": [
        "# Definition of hyperparameters"
      ]
    },
    {
      "cell_type": "code",
      "metadata": {
        "id": "2f0z9tLM4CdM"
      },
      "source": [
        "test_size = 0.25\n",
        "random_state = 10\n",
        "n_filters = 4\n",
        "stop_patience = 14\n",
        "lr_reducing_patience = 4\n",
        "batch_size = 16\n",
        "epoch_limit = 200\n",
        "norm = False\n",
        "coeff = 1.0\n",
        "if norm:\n",
        "    coeff = 255.0\n",
        "activation_function = 'relu'\n",
        "num_folds = 5"
      ],
      "execution_count": null,
      "outputs": []
    },
    {
      "cell_type": "markdown",
      "metadata": {
        "id": "qOUKqSY44I4D"
      },
      "source": [
        "#Name definition\n",
        "\n"
      ]
    },
    {
      "cell_type": "code",
      "metadata": {
        "id": "mJiQJekx4LCN"
      },
      "source": [
        "date = datetime.now().strftime(\"%m-%d-%Y_%H-%M-%S\")\n",
        "root = '/content/drive/MyDrive/BadaniaMchtr/'\n",
        "pathtoDataSet = f\"{root}Datasets/\"\n",
        "dataset = \"dataset_9_Combined_to_pred_256x256_10-11-2021_11-24-53\"\n",
        "type1 = \"resc_wrpd\"\n",
        "fname_input = \"X.npy\"\n",
        "fname_output = \"y.npy\"\n",
        "type2 = \"resc\"\n",
        "comment = f\"SSIMloss_{num_folds}Fold_Validation\"\n",
        "name = f\"UNetResNet5lvl_{type1}_{date}_{comment}\""
      ],
      "execution_count": null,
      "outputs": []
    },
    {
      "cell_type": "markdown",
      "metadata": {
        "id": "2FOZ67GT4ZeA"
      },
      "source": [
        "# Path Definition\n",
        "# Folder Generation"
      ]
    },
    {
      "cell_type": "code",
      "metadata": {
        "id": "pBL4_0_l4fDV"
      },
      "source": [
        "os.makedirs(f'{root}Results/{name}', exist_ok=True)\n",
        "os.makedirs(f'{root}Results/{name}/model', exist_ok=True)\n",
        "os.makedirs(f'{root}Results/{name}/cfg', exist_ok=True)\n",
        "cfg_dir = f'{root}Results/{name}/cfg'"
      ],
      "execution_count": null,
      "outputs": []
    },
    {
      "cell_type": "code",
      "metadata": {
        "id": "xF3MZJn44lEr",
        "colab": {
          "base_uri": "https://localhost:8080/"
        },
        "outputId": "eb4892c2-773b-4a45-b2a8-3b17d2b010d4"
      },
      "source": [
        "path_to_inputs = os.path.join(pathtoDataSet,dataset,fname_input).replace(\"\\\\\", \"/\")\n",
        "path_to_outputs = os.path.join(pathtoDataSet,dataset,fname_output).replace(\"\\\\\", \"/\")\n",
        "print(f\"Input path: {path_to_inputs}\")\n",
        "print(f\"Output path: {path_to_outputs}\")"
      ],
      "execution_count": null,
      "outputs": [
        {
          "output_type": "stream",
          "name": "stdout",
          "text": [
            "Input path: /content/drive/MyDrive/BadaniaMchtr/Datasets/dataset_9_Combined_to_pred_256x256_10-11-2021_11-24-53/X.npy\n",
            "Output path: /content/drive/MyDrive/BadaniaMchtr/Datasets/dataset_9_Combined_to_pred_256x256_10-11-2021_11-24-53/y.npy\n"
          ]
        }
      ]
    },
    {
      "cell_type": "markdown",
      "metadata": {
        "id": "WMeBrbF_5FEK"
      },
      "source": [
        "# Custom Functions (Callbacks, Loss, KFold)"
      ]
    },
    {
      "cell_type": "code",
      "metadata": {
        "id": "7m3H54wx4qSu"
      },
      "source": [
        "json_log = open(f'{root}Results/{name}/{name}_loss_log.json', mode='wt', buffering=1)\n",
        "json_logging_callback = LambdaCallback(\n",
        "    on_epoch_end=lambda epoch, logs: json_log.write(\n",
        "        json.dumps({'epoch': epoch, 'loss': logs['loss']}) + '\\n'),\n",
        "    on_train_end=lambda logs: json_log.close())"
      ],
      "execution_count": null,
      "outputs": []
    },
    {
      "cell_type": "code",
      "metadata": {
        "id": "w0k1FAKY5Q1G"
      },
      "source": [
        "def SSIMLoss(y_true, y_pred):\n",
        "  return 1 - tf.reduce_mean(tf.image.ssim(y_true, y_pred, 255.0))"
      ],
      "execution_count": null,
      "outputs": []
    },
    {
      "cell_type": "code",
      "metadata": {
        "id": "4YJTB-2zNCu6"
      },
      "source": [
        "kfold = KFold(n_splits=num_folds, shuffle=True)\n"
      ],
      "execution_count": null,
      "outputs": []
    },
    {
      "cell_type": "code",
      "metadata": {
        "id": "dIHo3Mbi5Opr"
      },
      "source": [
        "callbacks = [\n",
        "    EarlyStopping(patience=stop_patience, verbose=1),\n",
        "    ReduceLROnPlateau(factor=0.1, patience=lr_reducing_patience, min_lr=0.0000001, verbose=1),\n",
        "    ModelCheckpoint(f'{root}Results/{name}/model/{name}.h5', verbose=1, save_best_only=True),\n",
        "    #Tensordash(ModelName=f\"{name}\", email='mgontarz15@gmail.com', password='dupadupa'),\n",
        "    TensorBoard(log_dir=f\"{root}Results/{name}/model/logs\", write_graph=True, write_images= True, update_freq=5),\n",
        "    CSVLogger(f\"{root}Results/{name}/model/{name}.csv\"),\n",
        "    json_logging_callback,\n",
        "            ]"
      ],
      "execution_count": null,
      "outputs": []
    },
    {
      "cell_type": "markdown",
      "metadata": {
        "id": "VgslfbfNJc4Y"
      },
      "source": [
        "# Importing Images"
      ]
    },
    {
      "cell_type": "code",
      "metadata": {
        "id": "rUBnSaBRZZTY",
        "colab": {
          "base_uri": "https://localhost:8080/"
        },
        "outputId": "c7dcd691-1432-458d-bf38-5ee66217e9d9"
      },
      "source": [
        "X = np.load(path_to_inputs)\n",
        "y = np.load(path_to_outputs)\n",
        "\n",
        "print(X.shape, y.shape)"
      ],
      "execution_count": null,
      "outputs": [
        {
          "output_type": "stream",
          "name": "stdout",
          "text": [
            "(5001, 256, 256, 1) (5001, 256, 256, 1)\n"
          ]
        }
      ]
    },
    {
      "cell_type": "code",
      "metadata": {
        "id": "Axq9IlIA497E"
      },
      "source": [
        "genConfig.write_cfg(cfg_dir, name, 'w', type_input = type1, type_output= type2, dataset = dataset, num_folds = num_folds)"
      ],
      "execution_count": null,
      "outputs": []
    },
    {
      "cell_type": "markdown",
      "metadata": {
        "id": "rxPWeH5X5dIp"
      },
      "source": [
        "# Train Test Splitting\n"
      ]
    },
    {
      "cell_type": "code",
      "metadata": {
        "id": "XOvcK16V5fEf"
      },
      "source": [
        "X_train, X_valid, y_train, y_valid = train_test_split(X, y, test_size=test_size, random_state=random_state)\n",
        "print(X_train.shape, X_valid.shape, y_train.shape, y_valid.shape)\n",
        "del X\n",
        "del y"
      ],
      "execution_count": null,
      "outputs": []
    },
    {
      "cell_type": "code",
      "metadata": {
        "id": "a3uQuk5k5i2M"
      },
      "source": [
        "genConfig.write_cfg(cfg_dir, name, \"a\", test_size = test_size, random_state = random_state)"
      ],
      "execution_count": null,
      "outputs": []
    },
    {
      "cell_type": "markdown",
      "metadata": {
        "id": "X-vmgtPj5lQj"
      },
      "source": [
        "#Model Loading and Initialization"
      ]
    },
    {
      "cell_type": "code",
      "metadata": {
        "id": "vfjkcFwi5oDf"
      },
      "source": [
        "for train, test in kfold.split(X, y):\n",
        "\n",
        "    input_img = Input((256, 256, 1), name='img')\n",
        "    model = UNetResNet_5lvl.get_unet(input_img, n_filters=n_filters, activation=activation_function)\n",
        "\n",
        "    model.compile(optimizer=Adam(learning_rate=0.01), loss=SSIMLoss,  metrics=[\"accuracy\"])\n",
        "    #model.summary()\n",
        "\n",
        "\n",
        "\n",
        "    print('------------------------------------------------------------------------')\n",
        "    print(f'Training for fold {fold_no} ...')\n",
        "\n",
        "    results = model.fit(X[train], y[train], batch_size=batch_size, epochs=epoch_limit, callbacks=callbacks,\n",
        "                    validation_data=(X[test], y[test]))\n",
        "    scores = model.evaluate(X[test], y[test], verbose=0)\n",
        "    acc_per_fold.append(scores[1] * 100)\n",
        "    loss_per_fold.append(scores[0])\n",
        "\n",
        "    fold_no = fold_no + 1"
      ],
      "execution_count": null,
      "outputs": []
    },
    {
      "cell_type": "code",
      "metadata": {
        "id": "YO4fl63B5wwv"
      },
      "source": [
        "genConfig.write_cfg(cfg_dir,name, 'a', optimizer = \"Adam\", loss = comment, metrics = \"accuracy\", state = \"new\", n_filters = n_filters)"
      ],
      "execution_count": null,
      "outputs": []
    },
    {
      "cell_type": "markdown",
      "metadata": {
        "id": "KtJajT8U51Cb"
      },
      "source": [
        "#Model Fitting"
      ]
    },
    {
      "cell_type": "code",
      "metadata": {
        "id": "kaTS-Phl57JH"
      },
      "source": [
        "time = stop - start"
      ],
      "execution_count": null,
      "outputs": []
    },
    {
      "cell_type": "code",
      "metadata": {
        "id": "fCiJUFED576J"
      },
      "source": [
        "genConfig.write_cfg(cfg_dir,name, \"a\", batch_size = batch_size, epoch_limit = epoch_limit, time = time, activation_function = activation_function)\n"
      ],
      "execution_count": null,
      "outputs": []
    },
    {
      "cell_type": "code",
      "metadata": {
        "id": "IKlMp4fP6DvJ"
      },
      "source": [
        "plotter.plot_model_data(model, name, results, root)\n",
        "genConfig.write_cfg(cfg_dir,name, \"a\",  best_loss = np.min(results.history[\"val_loss\"]), for_epoch_loss = np.argmin(results.history[\"val_loss\"]), best_acc = np.max(results.history[\"val_accuracy\"]), for_epoch_acc = np.argmax(results.history[\"val_accuracy\"]))\n"
      ],
      "execution_count": null,
      "outputs": []
    },
    {
      "cell_type": "markdown",
      "metadata": {
        "id": "whE2blYiNoKM"
      },
      "source": [
        "#K-Fold Validation Scores"
      ]
    },
    {
      "cell_type": "code",
      "metadata": {
        "id": "EjyaZBXPNu19"
      },
      "source": [
        "summary = '\\n------------------------------------------------------------------------\\nScore per fold'\n",
        "genConfig.write_cfg(cfg_dir,name, \"a\", summary = summary)\n",
        "for i in range(0, len(acc_per_fold)):\n",
        "    per_fold = f\"\\n------------------------------------------------------------------------\\n'> Fold {i+1} - Loss: {loss_per_fold[i]} - Accuracy: {acc_per_fold[i]}%\"\n",
        "    genConfig.write_cfg(cfg_dir, name, \"a\", per_fold = per_fold)"
      ],
      "execution_count": null,
      "outputs": []
    },
    {
      "cell_type": "code",
      "metadata": {
        "id": "yL_lybUUN1di"
      },
      "source": [
        "avg_across_all = f'\\n------------------------------------------------------------------------\\nAverage scores for all folds:\\n> Accuracy: {np.mean(acc_per_fold)} (+- {np.std(acc_per_fold)}) > Loss: {np.mean(loss_per_fold)})'\n",
        "genConfig.write_cfg(cfg_dir,name, \"a\", avg_accross_all = avg_across_all)"
      ],
      "execution_count": null,
      "outputs": []
    }
  ]
}